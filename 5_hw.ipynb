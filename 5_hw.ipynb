{
 "cells": [
  {
   "cell_type": "code",
   "execution_count": 1,
   "metadata": {},
   "outputs": [],
   "source": [
    "import scipy.stats as ss\n",
    "import numpy as np\n",
    "import matplotlib.pyplot as plt\n",
    "import pandas as pd"
   ]
  },
  {
   "cell_type": "markdown",
   "metadata": {},
   "source": [
    "##### 1 task"
   ]
  },
  {
   "cell_type": "code",
   "execution_count": 3,
   "metadata": {},
   "outputs": [
    {
     "name": "stdout",
     "output_type": "stream",
     "text": [
      "[[-1.0878702 ]\n",
      " [-0.5688717 ]\n",
      " [ 0.93436482]]\n",
      "[[0.67038035 0.0662398  0.05856229]\n",
      " [0.0662398  0.60565119 0.0659719 ]\n",
      " [0.05856229 0.0659719  1.91253231]]\n"
     ]
    }
   ],
   "source": [
    "from numpy.linalg import matrix_power\n",
    "\n",
    "def beta_cov(x, y):\n",
    "    n = x.shape[0]\n",
    "    beta_star = np.matmul(matrix_power((1/n)*np.matmul(x.T, x), -1),  (1/n)*np.matmul(x.T, y))\n",
    "    H = (1/n)*np.matmul(x.T, x)\n",
    "    # print(beta_star.shape)\n",
    "    # print(x.shape)\n",
    "    # print(y.shape)\n",
    "    # print(x.T.shape)\n",
    "    # print((y - np.matmul(x, beta_star)).shape)\n",
    "    D = np.diag((y - np.matmul(x, beta_star))[:,0])**2\n",
    "    # print(D.shape)\n",
    "    V = np.matmul(x.T, np.matmul(D, x))/n\n",
    "    # print(\"V:\", V.shape)\n",
    "    # print(H.shape)\n",
    "    H_ = matrix_power(H, -1)\n",
    "    sigma = np.matmul(H_, np.matmul(V, H_))\n",
    "    return beta_star, sigma\n",
    "\n",
    "\n",
    "rng = np.random.default_rng(1337)\n",
    "x = ss.norm.rvs(size=(100, 3), random_state=rng)\n",
    "eps = ss.norm.rvs(size=(100, 1), random_state=rng)\n",
    "beta = ss.norm.rvs(size=(3, 1), random_state=rng)\n",
    "y = x @ beta + eps\n",
    "x.shape[0]\n",
    "\n",
    "print(*beta_cov(x, y), sep='\\n')"
   ]
  },
  {
   "cell_type": "markdown",
   "metadata": {},
   "source": [
    "##### 2 task"
   ]
  },
  {
   "cell_type": "code",
   "execution_count": 121,
   "metadata": {},
   "outputs": [
    {
     "name": "stdout",
     "output_type": "stream",
     "text": [
      "[2.96242792 3.05267914]\n"
     ]
    }
   ],
   "source": [
    "from numpy.linalg import matrix_power\n",
    "\n",
    "def beta_cov(x, y):\n",
    "    n = x.shape[0]\n",
    "    beta_star = np.matmul(matrix_power(\n",
    "        (1/n)*np.matmul(x.T, x), -1),  (1/n)*np.matmul(x.T, y))\n",
    "    H = (1/n)*np.matmul(x.T, x)\n",
    "    D = np.diag((y - np.matmul(x, beta_star))[:, 0])**2\n",
    "    V = np.matmul(x.T, np.matmul(D, x))/n\n",
    "    H_ = matrix_power(H, -1)\n",
    "    sigma = np.matmul(H_, np.matmul(V, H_))\n",
    "    return beta_star, sigma\n",
    "\n",
    "\n",
    "def interval(x, y, c):\n",
    "    beta_star, sigma_star = beta_cov(x, y)\n",
    "    sigma_square = np.matmul(c, np.matmul(sigma_star, c.T))\n",
    "    ci = ss.norm.interval(0.95, loc=0, scale = np.sqrt(sigma_square)/np.sqrt(len(y)))\n",
    "    ci = [ci[0][0][0], ci[1][0][0]] \n",
    "    conf_interval = c@beta_star + ci\n",
    "    return conf_interval[0]\n",
    "\n",
    "\n",
    "data = pd.read_csv(\n",
    "    'https://stepik.org/media/attachments/lesson/832665/Fish.csv')\n",
    "data = data.drop(40, axis=0)\n",
    "\n",
    "x = data[['Length1', 'Height', 'Width']].apply(np.log)\n",
    "x['const'] = 1\n",
    "y = data[['Weight']].apply(np.log)\n",
    "c = np.array([[1, 1, 1, 0]])  # в таком порядке, так как константа последняя\n",
    "\n",
    "print(interval(x.values, y.values, c))"
   ]
  },
  {
   "cell_type": "markdown",
   "metadata": {},
   "source": [
    "##### 3 task"
   ]
  },
  {
   "cell_type": "code",
   "execution_count": 84,
   "metadata": {},
   "outputs": [
    {
     "name": "stdout",
     "output_type": "stream",
     "text": [
      "[[-0.19503921]\n",
      " [ 0.5637669 ]\n",
      " [-2.00190378]]\n"
     ]
    }
   ],
   "source": [
    "def beta_WLS(x, y, w):\n",
    "    W = np.diag(w(x))\n",
    "    beta = np.linalg.solve(np.dot(np.dot(x.T, W), x), np.dot(np.dot(x.T, W), y))\n",
    "    return beta\n",
    "\n",
    "\n",
    "rng = np.random.default_rng(0)\n",
    "x = ss.norm.rvs(size=(100, 3), random_state=rng)\n",
    "eps = ss.norm.rvs(size=(100, 1), random_state=rng)\n",
    "beta = ss.norm.rvs(size=(3, 1), random_state=rng)\n",
    "y = x @ beta + eps * np.abs(x[:, [0]])\n",
    "def w(x): return np.abs(x[:, 0])\n",
    "\n",
    "\n",
    "print(beta_WLS(x, y, w))"
   ]
  },
  {
   "cell_type": "markdown",
   "metadata": {},
   "source": [
    "##### 4 task"
   ]
  },
  {
   "cell_type": "code",
   "execution_count": 118,
   "metadata": {},
   "outputs": [
    {
     "name": "stdout",
     "output_type": "stream",
     "text": [
      "[[ 2.34752824  0.0547367  -2.01159742]\n",
      " [ 0.0547367   2.16796233 -0.09831566]\n",
      " [-2.01159742 -0.09831566  5.3083249 ]]\n"
     ]
    }
   ],
   "source": [
    "def beta_WLS(x, y, w):\n",
    "    W = np.diag(w(x))\n",
    "    beta = np.linalg.solve(np.dot(np.dot(x.T, W), x), np.dot(np.dot(x.T, W), y))\n",
    "    return beta\n",
    "\n",
    "def cov_WLS(x, y, w):\n",
    "    beta_star = beta_WLS(x, y, w)\n",
    "    W = np.diag(w(x))\n",
    "    D = np.diag((y -  x @ beta_star)[:, 0])**2\n",
    "    V =  x.T @ W @ W @ D @ x / len(y)\n",
    "    H = (1 / len(y)) * x.T @ W @ x\n",
    "    sigma = np.linalg.inv(H) @ V @ np.linalg.inv(H)\n",
    "    return sigma\n",
    "\n",
    "rng = np.random.default_rng(0)\n",
    "x = ss.norm.rvs(size=(100, 3), random_state=rng)\n",
    "eps = ss.norm.rvs(size=(100, 1), random_state=rng)\n",
    "beta = ss.norm.rvs(size=(3, 1), random_state=rng)\n",
    "y = x @ beta + eps * np.abs(x[:, [0]])\n",
    "def w(x): return np.abs(x[:, 0])\n",
    "\n",
    "\n",
    "print(cov_WLS(x, y, w))"
   ]
  },
  {
   "cell_type": "markdown",
   "metadata": {},
   "source": [
    "##### 5 task"
   ]
  },
  {
   "cell_type": "code",
   "execution_count": 123,
   "metadata": {},
   "outputs": [
    {
     "name": "stdout",
     "output_type": "stream",
     "text": [
      "[0.73977544 1.84962684]\n",
      "[ 0.44463417 37.52791691]\n"
     ]
    }
   ],
   "source": [
    "def beta_WLS(x, y, w):\n",
    "    W = np.diag(w(x))\n",
    "    beta = np.linalg.solve(np.dot(np.dot(x.T, W), x), np.dot(np.dot(x.T, W), y))\n",
    "    return beta\n",
    "\n",
    "def cov_WLS(x, y, w):\n",
    "    beta_star = beta_WLS(x, y, w)\n",
    "    W = np.diag(w(x))\n",
    "    D = np.diag((y -  x @ beta_star)[:, 0])**2\n",
    "    V =  x.T @ W @ W @ D @ x / len(y)\n",
    "    H = (1 / len(y)) * x.T @ W @ x\n",
    "    sigma = np.linalg.inv(H) @ V @ np.linalg.inv(H)\n",
    "    return sigma\n",
    "\n",
    "def interval(x, y, w, c):\n",
    "    beta_star = beta_WLS(x, y, w)\n",
    "    sigma_star = cov_WLS(x, y, w)\n",
    "    sigma_square = np.matmul(c, np.matmul(sigma_star, c.T))\n",
    "    ci = ss.norm.interval(0.95, loc=0, scale = np.sqrt(sigma_square)/np.sqrt(len(y)))\n",
    "    ci = [ci[0][0][0], ci[1][0][0]] \n",
    "    conf_interval = c@beta_star + ci\n",
    "    return conf_interval[0]\n",
    "\n",
    "data['Volume'] = data['Length1'] * data['Height'] * data['Width']\n",
    "x = np.column_stack([np.ones(len(data)), data['Volume'].values])\n",
    "y = data[['Weight']].values\n",
    "c = np.array([[1, 0]])\n",
    "\n",
    "def w(x): return 1 / x[:, 1] ** 2\n",
    "\n",
    "print(interval(x, y, w, c))\n",
    "\n",
    "def w(x): return np.ones(len(x))\n",
    "\n",
    "print(interval(x, y, w, c))"
   ]
  },
  {
   "cell_type": "markdown",
   "metadata": {},
   "source": [
    "##### 6 task"
   ]
  },
  {
   "cell_type": "code",
   "execution_count": 103,
   "metadata": {},
   "outputs": [
    {
     "name": "stdout",
     "output_type": "stream",
     "text": [
      "[[-0.24589836]\n",
      " [ 0.25836564]\n",
      " [-1.25251412]\n",
      " [-0.20515964]\n",
      " [ 1.04764166]]\n"
     ]
    }
   ],
   "source": [
    "def psi(x, y, beta):\n",
    "    mu = np.exp(np.matmul(x, beta))\n",
    "    psi_t = (y - mu) * x\n",
    "    return psi_t.T\n",
    "\n",
    "\n",
    "rng = np.random.default_rng(0)\n",
    "x = ss.norm.rvs(size=(1, 5), random_state=rng)\n",
    "beta = ss.norm.rvs(size=(5, 1), random_state=rng)\n",
    "y = ss.poisson(np.exp(x @ beta)).rvs(random_state=rng)\n",
    "\n",
    "print(psi(x, y, beta))"
   ]
  },
  {
   "cell_type": "markdown",
   "metadata": {},
   "source": [
    "##### 7 task"
   ]
  },
  {
   "cell_type": "code",
   "execution_count": 125,
   "metadata": {},
   "outputs": [
    {
     "name": "stdout",
     "output_type": "stream",
     "text": [
      "[[ 4.5917873   0.388386    0.9059114  -5.51186074  2.85805797]\n",
      " [ 0.388386    4.4738625   0.37613232 -2.86765339 -0.35458691]\n",
      " [ 0.9059114   0.37613232  3.1787806  -1.15306063 -0.98362199]\n",
      " [-5.51186074 -2.86765339 -1.15306063 16.510745   -3.78269525]\n",
      " [ 2.85805797 -0.35458691 -0.98362199 -3.78269525 10.31941884]]\n"
     ]
    }
   ],
   "source": [
    "import numpy as np\n",
    "\n",
    "def psi(x, y, beta):\n",
    "    \"\"\"\n",
    "    Вычисляет значение градиента логарифма плотности вероятности p(y|x,t) по t в точке t=beta.\n",
    "    \n",
    "    Параметры:\n",
    "        x: numpy.ndarray, строка (вектор) размера 1 x k.\n",
    "        y: float, число.\n",
    "        beta: numpy.ndarray, вектор размера k x 1.\n",
    "        \n",
    "    Возвращает:\n",
    "        psi_value: numpy.ndarray, градиент логарифма плотности вероятности в точке t=beta.\n",
    "    \"\"\"\n",
    "    # Преобразование строк и чисел в нужный формат массивов\n",
    "    x = np.array(x)\n",
    "    beta = np.array(beta)\n",
    "    \n",
    "    # Вычисление mu (ожидаемого значения)\n",
    "    mu = np.exp(x @ beta)\n",
    "    \n",
    "    # Вычисление производной логарифма плотности вероятности по t\n",
    "    psi_value = (y - mu) * x\n",
    "    \n",
    "    return psi_value.reshape(beta.shape)\n",
    "\n",
    "def cov_pois(x, y, beta):\n",
    "    \"\"\"\n",
    "    Вычисляет оценку матрицы рассеивания beta.\n",
    "    \n",
    "    Параметры:\n",
    "        x: numpy.ndarray, матрица размера n x k.\n",
    "        y: numpy.ndarray, вектор размера n x 1.\n",
    "        beta: numpy.ndarray, вектор размера k x 1.\n",
    "        \n",
    "    Возвращает:\n",
    "        cov_beta: numpy.ndarray, оценка матрицы рассеивания beta.\n",
    "    \"\"\"\n",
    "    n, k = x.shape\n",
    "    \n",
    "    # Инициализация матрицы рассеивания\n",
    "    cov_beta = np.zeros((k, k))\n",
    "    \n",
    "    # Вычисление градиента логарифма плотности вероятности по t для каждого наблюдения\n",
    "    psi_values = np.array([psi(x[i], y[i], beta) for i in range(n)])\n",
    "    \n",
    "    # Вычисление матрицы рассеивания\n",
    "    for i in range(n):\n",
    "        cov_beta += np.outer(psi_values[i], psi_values[i])\n",
    "    \n",
    "    cov_beta /= n\n",
    "    \n",
    "    return cov_beta\n",
    "\n",
    "import numpy as np\n",
    "import scipy.stats as ss\n",
    "from scipy.optimize import minimize\n",
    "\n",
    "rng = np.random.default_rng(0)\n",
    "x = ss.norm.rvs(size=(100, 5), random_state=rng)\n",
    "beta = ss.norm.rvs(size=(5, 1), random_state=rng)\n",
    "y = ss.poisson(np.exp(x @ beta)).rvs(random_state=rng)\n",
    "\n",
    "def mlogL(beta):\n",
    "    return -ss.poisson.logpmf(y, mu=np.exp(x @ beta.reshape(-1, 1))).sum()\n",
    "\n",
    "beta_star = minimize(mlogL, x0=np.zeros(x.shape[1])).x.reshape(-1, 1)\n",
    "\n",
    "print(cov_pois(x, y, beta_star))\n"
   ]
  },
  {
   "cell_type": "markdown",
   "metadata": {},
   "source": [
    "##### 8 task"
   ]
  },
  {
   "cell_type": "code",
   "execution_count": 167,
   "metadata": {},
   "outputs": [
    {
     "name": "stdout",
     "output_type": "stream",
     "text": [
      "False\n",
      "True\n",
      "True\n"
     ]
    }
   ],
   "source": [
    "def check(phi_star, phi, sigma, n):\n",
    "    value = ((phi_star - phi).T @  np.linalg.inv((sigma/n)) @ (phi_star - phi))[0][0]\n",
    "    sample = ss.chi2.rvs(phi.shape[0], size = 10000)\n",
    "    threshold = np.quantile(sample, 0.95)**2    \n",
    "    return value <= threshold\n",
    "\n",
    "\n",
    "# TESTING ZONE \n",
    "beta_star = np.array([[1.4295077 ], [0.62930259], [0.94874324]])\n",
    "beta = np.array([[1], [1], [1]])\n",
    "cov = np.array([[ 0.5500138 ,  0.07268948, -0.46911148],\n",
    "                [ 0.07268948,  0.18391358, -0.23438668],\n",
    "                [-0.46911148, -0.23438668,  0.61144262]])\n",
    "n = 158\n",
    "\n",
    "print(check(beta_star, beta, cov, n))\n",
    "\n",
    "rng = np.random.default_rng(1337)\n",
    "n = 30\n",
    "phi = rng.normal(size=(5, 1))\n",
    "A = rng.normal(size=(5, 5))\n",
    "sigma = A @ A.T\n",
    "phi_star = phi + A @ np.array([10/3, 0, 0, 0, 0]).reshape(-1, 1) / np.sqrt(n)\n",
    "\n",
    "print(check(phi_star, phi, sigma, n))\n",
    "\n",
    "rng = np.random.default_rng(1337)\n",
    "n = 30\n",
    "phi = rng.normal(size=(5, 1))\n",
    "A = rng.normal(size=(5, 5))\n",
    "sigma = A @ A.T\n",
    "phi_star = phi + A @ np.array([10/3 - 0.1, 0, 0, 0, 0]).reshape(-1, 1) / np.sqrt(n)\n",
    "\n",
    "print(check(phi_star, phi, sigma, n))"
   ]
  }
 ],
 "metadata": {
  "kernelspec": {
   "display_name": ".env",
   "language": "python",
   "name": "python3"
  },
  "language_info": {
   "codemirror_mode": {
    "name": "ipython",
    "version": 3
   },
   "file_extension": ".py",
   "mimetype": "text/x-python",
   "name": "python",
   "nbconvert_exporter": "python",
   "pygments_lexer": "ipython3",
   "version": "3.10.12"
  }
 },
 "nbformat": 4,
 "nbformat_minor": 2
}
