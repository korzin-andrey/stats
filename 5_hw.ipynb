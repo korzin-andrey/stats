{
 "cells": [
  {
   "cell_type": "code",
   "execution_count": 2,
   "metadata": {},
   "outputs": [],
   "source": [
    "import scipy.stats as ss\n",
    "import numpy as np\n",
    "import matplotlib.pyplot as plt\n",
    "import pandas as pd"
   ]
  },
  {
   "cell_type": "markdown",
   "metadata": {},
   "source": [
    "##### 1 task"
   ]
  },
  {
   "cell_type": "code",
   "execution_count": 4,
   "metadata": {},
   "outputs": [
    {
     "name": "stdout",
     "output_type": "stream",
     "text": [
      "[[-1.0878702 ]\n",
      " [-0.5688717 ]\n",
      " [ 0.93436482]]\n",
      "[[0.67038035 0.0662398  0.05856229]\n",
      " [0.0662398  0.60565119 0.0659719 ]\n",
      " [0.05856229 0.0659719  1.91253231]]\n"
     ]
    }
   ],
   "source": [
    "from numpy.linalg import matrix_power\n",
    "\n",
    "def beta_cov(x, y):\n",
    "    n = x.shape[0]\n",
    "    beta_star = np.matmul(matrix_power((1/n)*np.matmul(x.T, x), -1),  (1/n)*np.matmul(x.T, y))\n",
    "    H = (1/n)*np.matmul(x.T, x)\n",
    "    # print(beta_star.shape)\n",
    "    # print(x.shape)\n",
    "    # print(y.shape)\n",
    "    # print(x.T.shape)\n",
    "    # print((y - np.matmul(x, beta_star)).shape)\n",
    "    D = np.diag((y - np.matmul(x, beta_star))[:,0])**2\n",
    "    # print(D.shape)\n",
    "    V = np.matmul(x.T, np.matmul(D, x))/n\n",
    "    # print(\"V:\", V.shape)\n",
    "    # print(H.shape)\n",
    "    H_ = matrix_power(H, -1)\n",
    "    sigma = np.matmul(H_, np.matmul(V, H_))\n",
    "    return beta_star, sigma\n",
    "\n",
    "\n",
    "rng = np.random.default_rng(1337)\n",
    "x = ss.norm.rvs(size=(100, 3), random_state=rng)\n",
    "eps = ss.norm.rvs(size=(100, 1), random_state=rng)\n",
    "beta = ss.norm.rvs(size=(3, 1), random_state=rng)\n",
    "y = x @ beta + eps\n",
    "x.shape[0]\n",
    "\n",
    "print(*beta_cov(x, y), sep='\\n')"
   ]
  },
  {
   "cell_type": "markdown",
   "metadata": {},
   "source": [
    "##### 2 task"
   ]
  },
  {
   "cell_type": "code",
   "execution_count": 65,
   "metadata": {},
   "outputs": [
    {
     "name": "stdout",
     "output_type": "stream",
     "text": [
      "[2.99449402 3.02061303]\n"
     ]
    }
   ],
   "source": [
    "from numpy.linalg import matrix_power\n",
    "\n",
    "def beta_cov(x, y):\n",
    "    n = x.shape[0]\n",
    "    beta_star = np.matmul(matrix_power(\n",
    "        (1/n)*np.matmul(x.T, x), -1),  (1/n)*np.matmul(x.T, y))\n",
    "    H = (1/n)*np.matmul(x.T, x)\n",
    "    D = np.diag((y - np.matmul(x, beta_star))[:, 0])**2\n",
    "    V = np.matmul(x.T, np.matmul(D, x))/n\n",
    "    H_ = matrix_power(H, -1)\n",
    "    sigma = np.matmul(H_, np.matmul(V, H_))\n",
    "    return beta_star, sigma\n",
    "\n",
    "\n",
    "def interval(x, y, c):\n",
    "    beta_star, sigma_star = beta_cov(x, y)\n",
    "    sigma_square = np.matmul(c, np.matmul(sigma_star, c.T))\n",
    "    # print(sigma_square.shape)\n",
    "    ci = ss.norm.interval(0.95, loc=0, scale = sigma_square)/np.sqrt(len(y))\n",
    "    ci = ci.reshape((1,-1))[0]\n",
    "    conf_interval = c@beta_star + ci\n",
    "    return conf_interval[0]\n",
    "\n",
    "\n",
    "data = pd.read_csv(\n",
    "    'https://stepik.org/media/attachments/lesson/832665/Fish.csv')\n",
    "data = data.drop(40, axis=0)\n",
    "\n",
    "x = data[['Length1', 'Height', 'Width']].apply(np.log)\n",
    "x['const'] = 1\n",
    "y = data[['Weight']].apply(np.log)\n",
    "c = np.array([[1, 1, 1, 0]])  # в таком порядке, так как константа последняя\n",
    "\n",
    "print(interval(x.values, y.values, c))"
   ]
  },
  {
   "cell_type": "markdown",
   "metadata": {},
   "source": [
    "##### 3 task"
   ]
  },
  {
   "cell_type": "code",
   "execution_count": 84,
   "metadata": {},
   "outputs": [
    {
     "name": "stdout",
     "output_type": "stream",
     "text": [
      "[[-0.19503921]\n",
      " [ 0.5637669 ]\n",
      " [-2.00190378]]\n"
     ]
    }
   ],
   "source": [
    "def beta_WLS(x, y, w):\n",
    "    W = np.diag(w(x))\n",
    "    beta = np.linalg.solve(np.dot(np.dot(x.T, W), x), np.dot(np.dot(x.T, W), y))\n",
    "    return beta\n",
    "\n",
    "\n",
    "rng = np.random.default_rng(0)\n",
    "x = ss.norm.rvs(size=(100, 3), random_state=rng)\n",
    "eps = ss.norm.rvs(size=(100, 1), random_state=rng)\n",
    "beta = ss.norm.rvs(size=(3, 1), random_state=rng)\n",
    "y = x @ beta + eps * np.abs(x[:, [0]])\n",
    "def w(x): return np.abs(x[:, 0])\n",
    "\n",
    "\n",
    "print(beta_WLS(x, y, w))"
   ]
  },
  {
   "cell_type": "markdown",
   "metadata": {},
   "source": [
    "##### 4 task"
   ]
  },
  {
   "cell_type": "code",
   "execution_count": 95,
   "metadata": {},
   "outputs": [
    {
     "name": "stdout",
     "output_type": "stream",
     "text": [
      "(3, 3)\n",
      "None\n"
     ]
    }
   ],
   "source": [
    "def beta_WLS(x, y, w):\n",
    "    W = np.diag(w(x))\n",
    "    beta = np.linalg.solve(np.dot(np.dot(x.T, W), x), np.dot(np.dot(x.T, W), y))\n",
    "    return beta\n",
    "\n",
    "def cov_WLS(x, y, w):\n",
    "    beta_star = beta_WLS(x, y, w)\n",
    "    D = np.diag((y - np.matmul(x, beta_star))[:,0])**2\n",
    "    V = np.matmul(x.T, np.matmul(D, x))/x.shape[0]\n",
    "    print(V.shape)\n",
    "    # W = np.diag(w(x))\n",
    "    # H = np.matmul(x.T, W)\n",
    "    # H = np.matmul(np.matmul(x.T, np.matmul(W, x)), H)\n",
    "    # H = np.matmul(x, H) # 100 x 100\n",
    "    # H_ = matrix_power(H, -1)\n",
    "    # sigma = np.matmul(H_, np.matmul(V, H_))\n",
    "    # return sigma\n",
    "\n",
    "rng = np.random.default_rng(0)\n",
    "x = ss.norm.rvs(size=(100, 3), random_state=rng)\n",
    "eps = ss.norm.rvs(size=(100, 1), random_state=rng)\n",
    "beta = ss.norm.rvs(size=(3, 1), random_state=rng)\n",
    "y = x @ beta + eps * np.abs(x[:, [0]])\n",
    "def w(x): return np.abs(x[:, 0])\n",
    "\n",
    "\n",
    "print(cov_WLS(x, y, w))"
   ]
  },
  {
   "cell_type": "markdown",
   "metadata": {},
   "source": [
    "##### 5 task"
   ]
  },
  {
   "cell_type": "code",
   "execution_count": null,
   "metadata": {},
   "outputs": [],
   "source": []
  },
  {
   "cell_type": "markdown",
   "metadata": {},
   "source": [
    "##### 6 task"
   ]
  },
  {
   "cell_type": "code",
   "execution_count": 103,
   "metadata": {},
   "outputs": [
    {
     "name": "stdout",
     "output_type": "stream",
     "text": [
      "[[-0.24589836]\n",
      " [ 0.25836564]\n",
      " [-1.25251412]\n",
      " [-0.20515964]\n",
      " [ 1.04764166]]\n"
     ]
    }
   ],
   "source": [
    "def psi(x, y, beta):\n",
    "    mu = np.exp(np.matmul(x, beta))\n",
    "    psi_t = (y - mu) * x\n",
    "    return psi_t.T\n",
    "\n",
    "\n",
    "rng = np.random.default_rng(0)\n",
    "x = ss.norm.rvs(size=(1, 5), random_state=rng)\n",
    "beta = ss.norm.rvs(size=(5, 1), random_state=rng)\n",
    "y = ss.poisson(np.exp(x @ beta)).rvs(random_state=rng)\n",
    "\n",
    "print(psi(x, y, beta))"
   ]
  }
 ],
 "metadata": {
  "kernelspec": {
   "display_name": ".env",
   "language": "python",
   "name": "python3"
  },
  "language_info": {
   "codemirror_mode": {
    "name": "ipython",
    "version": 3
   },
   "file_extension": ".py",
   "mimetype": "text/x-python",
   "name": "python",
   "nbconvert_exporter": "python",
   "pygments_lexer": "ipython3",
   "version": "3.11.6"
  }
 },
 "nbformat": 4,
 "nbformat_minor": 2
}
