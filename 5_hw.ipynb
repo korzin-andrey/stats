{
 "cells": [
  {
   "cell_type": "code",
   "execution_count": 1,
   "metadata": {},
   "outputs": [],
   "source": [
    "import scipy.stats as ss\n",
    "import numpy as np\n",
    "import matplotlib.pyplot as plt\n",
    "import pandas as pd"
   ]
  },
  {
   "cell_type": "code",
   "execution_count": 32,
   "metadata": {},
   "outputs": [
    {
     "name": "stdout",
     "output_type": "stream",
     "text": [
      "(3, 1)\n",
      "(100, 1)\n",
      "(100, 100)\n",
      "V: (3, 3)\n",
      "(3, 3)\n",
      "[[-1.0878702 ]\n",
      " [-0.5688717 ]\n",
      " [ 0.93436482]]\n",
      "[[0.67038035 0.0662398  0.05856229]\n",
      " [0.0662398  0.60565119 0.0659719 ]\n",
      " [0.05856229 0.0659719  1.91253231]]\n"
     ]
    }
   ],
   "source": [
    "from numpy.linalg import matrix_power\n",
    "\n",
    "def beta_cov(x, y):\n",
    "    n = x.shape[0]\n",
    "    beta_star = np.matmul(matrix_power((1/n)*np.matmul(x.T, x), -1),  (1/n)*np.matmul(x.T, y))\n",
    "    H = (1/n)*np.matmul(x.T, x)\n",
    "    # print(beta_star.shape)\n",
    "    # print(x.shape)\n",
    "    # print(y.shape)\n",
    "    # print(x.T.shape)\n",
    "    # print((y - np.matmul(x, beta_star)).shape)\n",
    "    D = np.diag((y - np.matmul(x, beta_star))[:,0])**2\n",
    "    # print(D.shape)\n",
    "    V = np.matmul(x.T, np.matmul(D, x))/n\n",
    "    # print(\"V:\", V.shape)\n",
    "    # print(H.shape)\n",
    "    H_ = matrix_power(H, -1)\n",
    "    sigma = np.matmul(H_, np.matmul(V, H_))\n",
    "    return beta_star, sigma\n",
    "\n",
    "\n",
    "rng = np.random.default_rng(1337)\n",
    "x = ss.norm.rvs(size=(100, 3), random_state=rng)\n",
    "eps = ss.norm.rvs(size=(100, 1), random_state=rng)\n",
    "beta = ss.norm.rvs(size=(3, 1), random_state=rng)\n",
    "y = x @ beta + eps\n",
    "x.shape[0]\n",
    "\n",
    "print(*beta_cov(x, y), sep='\\n')"
   ]
  },
  {
   "cell_type": "code",
   "execution_count": 25,
   "metadata": {},
   "outputs": [
    {
     "data": {
      "text/plain": [
       "array([[1, 2, 3]])"
      ]
     },
     "execution_count": 25,
     "metadata": {},
     "output_type": "execute_result"
    }
   ],
   "source": [
    "a = np.array([1,2,3]).reshape((3,1))\n",
    "# a.shape\n",
    "# np.diag(a).shape\n",
    "a.T"
   ]
  }
 ],
 "metadata": {
  "kernelspec": {
   "display_name": ".env",
   "language": "python",
   "name": "python3"
  },
  "language_info": {
   "codemirror_mode": {
    "name": "ipython",
    "version": 3
   },
   "file_extension": ".py",
   "mimetype": "text/x-python",
   "name": "python",
   "nbconvert_exporter": "python",
   "pygments_lexer": "ipython3",
   "version": "3.11.6"
  }
 },
 "nbformat": 4,
 "nbformat_minor": 2
}
