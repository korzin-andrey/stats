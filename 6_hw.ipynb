{
 "cells": [
  {
   "cell_type": "code",
   "execution_count": 2,
   "metadata": {},
   "outputs": [],
   "source": [
    "import scipy.stats as ss\n",
    "import numpy as np\n",
    "import matplotlib.pyplot as plt\n",
    "import pandas as pd"
   ]
  },
  {
   "cell_type": "markdown",
   "metadata": {},
   "source": [
    "##### 1 task"
   ]
  },
  {
   "cell_type": "code",
   "execution_count": 4,
   "metadata": {},
   "outputs": [
    {
     "name": "stdout",
     "output_type": "stream",
     "text": [
      "[187  10   7  16  17]\n",
      "[28  1  0  0  0]\n"
     ]
    }
   ],
   "source": [
    "def generate(w, a1, b1, a2, b2, a, b, delta_mu, delta_sigma2, size, rng):\n",
    "    # генерируем просмотры\n",
    "    mix = rng.random(size=size) < w\n",
    "    first = rng.geometric(rng.beta(a1, b1, size=size))\n",
    "    second = rng.geometric(rng.beta(a2, b2, size=size))\n",
    "    views = mix * first + (1 - mix) * second\n",
    "\n",
    "    # генерируем лайки, хитро поменяв параметры a и b\n",
    "    mu = a/(a+b)*(1+delta_mu)\n",
    "    variance = (a*b)/((a+b)**2*(a+b+1))*(1+delta_sigma2)\n",
    "    nu = mu*(1-mu)/variance - 1\n",
    "    a_new, b_new = mu*nu, (1-mu)*nu\n",
    "    likes = rng.binomial(views, rng.beta(a_new, b_new, size=size))\n",
    "    return views, likes\n",
    "\n",
    "\n",
    "w = 0.25\n",
    "a1, b1 = 1.4, 4.4\n",
    "a2, b2 = 3.2, 150\n",
    "a, b = 1.15, 20.3\n",
    "rng = np.random.default_rng(0)\n",
    "delta_mu, delta_sigma2 = 0.1, -0.1\n",
    "size = 5\n",
    "\n",
    "print(*generate(w, a1, b1, a2, b2, a, b, delta_mu, delta_sigma2, size, rng), sep='\\n')"
   ]
  },
  {
   "cell_type": "markdown",
   "metadata": {},
   "source": [
    "##### 2 task"
   ]
  },
  {
   "cell_type": "code",
   "execution_count": 60,
   "metadata": {},
   "outputs": [
    {
     "name": "stderr",
     "output_type": "stream",
     "text": [
      "100%|██████████| 10000/10000 [02:42<00:00, 61.58it/s]"
     ]
    },
    {
     "name": "stdout",
     "output_type": "stream",
     "text": [
      "1.432\n"
     ]
    },
    {
     "name": "stderr",
     "output_type": "stream",
     "text": [
      "\n"
     ]
    }
   ],
   "source": [
    "from tqdm import tqdm \n",
    "\n",
    "def generate(w, a1, b1, a2, b2, a, b, delta_mu, delta_sigma2, size, rng):\n",
    "    # генерируем просмотры\n",
    "    mix = rng.random(size=size) < w\n",
    "    first = rng.geometric(rng.beta(a1, b1, size=size))\n",
    "    second = rng.geometric(rng.beta(a2, b2, size=size))\n",
    "    views = mix * first + (1 - mix) * second\n",
    "\n",
    "    # генерируем лайки, хитро поменяв параметры a и b\n",
    "    mu = a/(a+b)*(1+delta_mu)\n",
    "    variance = (a*b)/((a+b)**2*(a+b+1))*(1+delta_sigma2)\n",
    "    nu = mu*(1-mu)/variance - 1\n",
    "    a_new, b_new = mu*nu, (1-mu)*nu\n",
    "    likes = rng.binomial(views, rng.beta(a_new, b_new, size=size))\n",
    "    return views, likes\n",
    "\n",
    "\n",
    "size = 10000\n",
    "alpha = 0.05\n",
    "N = 10000\n",
    "\n",
    "\n",
    "counter = 0\n",
    "\n",
    "for i in tqdm(range(N)):\n",
    "    views, likes = generate(w = 0.25, a1 = 1.4, b1 = 4.4, a2 = 3.2, b2 = 150, \n",
    "                            a = 1.15, b = 20.3, rng = np.random.default_rng(),  \n",
    "                            delta_mu = 0, delta_sigma2 = 0, size = size)\n",
    "    control_data =  likes/views\n",
    "\n",
    "    views, likes = generate(w = 0.25, a1 = 1.4, b1 = 4.4, a2 = 3.2, b2 = 150, \n",
    "                            a = 1.15, b = 20.3, rng = np.random.default_rng(),  \n",
    "                            delta_mu = 0, delta_sigma2 = 0.05, size = size)\n",
    "    test_data = likes / views\n",
    "\n",
    "    p_value = ss.mannwhitneyu(control_data, test_data, alternative='two-sided').pvalue\n",
    "    if (p_value < alpha):\n",
    "        counter+=1\n",
    "\n",
    "\n",
    "print(counter/N/alpha)"
   ]
  },
  {
   "cell_type": "markdown",
   "metadata": {},
   "source": [
    "##### 3 task"
   ]
  },
  {
   "cell_type": "code",
   "execution_count": 61,
   "metadata": {},
   "outputs": [
    {
     "name": "stderr",
     "output_type": "stream",
     "text": [
      "100%|██████████| 10000/10000 [02:48<00:00, 59.29it/s]"
     ]
    },
    {
     "name": "stdout",
     "output_type": "stream",
     "text": [
      "0.804\n"
     ]
    },
    {
     "name": "stderr",
     "output_type": "stream",
     "text": [
      "\n"
     ]
    }
   ],
   "source": [
    "from tqdm import tqdm \n",
    "\n",
    "def generate(w, a1, b1, a2, b2, a, b, delta_mu, delta_sigma2, size, rng):\n",
    "    # генерируем просмотры\n",
    "    mix = rng.random(size=size) < w\n",
    "    first = rng.geometric(rng.beta(a1, b1, size=size))\n",
    "    second = rng.geometric(rng.beta(a2, b2, size=size))\n",
    "    views = mix * first + (1 - mix) * second\n",
    "\n",
    "    # генерируем лайки, хитро поменяв параметры a и b\n",
    "    mu = a/(a+b)*(1+delta_mu)\n",
    "    variance = (a*b)/((a+b)**2*(a+b+1))*(1+delta_sigma2)\n",
    "    nu = mu*(1-mu)/variance - 1\n",
    "    a_new, b_new = mu*nu, (1-mu)*nu\n",
    "    likes = rng.binomial(views, rng.beta(a_new, b_new, size=size))\n",
    "    return views, likes\n",
    "\n",
    "\n",
    "size = 10000\n",
    "alpha = 0.05\n",
    "N = 10000\n",
    "\n",
    "\n",
    "counter = 0\n",
    "\n",
    "for i in tqdm(range(N)):\n",
    "    views, likes = generate(w = 0.25, a1 = 1.4, b1 = 4.4, a2 = 3.2, b2 = 150, \n",
    "                            a = 1.15, b = 20.3, rng = np.random.default_rng(),  \n",
    "                            delta_mu = 0, delta_sigma2 = 0, size = size)\n",
    "    control_data =  likes/views\n",
    "\n",
    "    views, likes = generate(w = 0.25, a1 = 1.4, b1 = 4.4, a2 = 3.2, b2 = 150, \n",
    "                            a = 1.15, b = 20.3, rng = np.random.default_rng(),  \n",
    "                            delta_mu = 0.05, delta_sigma2 = 0, size = size)\n",
    "    test_data = likes / views\n",
    "\n",
    "    p_value = ss.mannwhitneyu(control_data, test_data, alternative='two-sided').pvalue\n",
    "    if (p_value < alpha):\n",
    "        counter+=1\n",
    "\n",
    "print(counter/N)"
   ]
  },
  {
   "cell_type": "markdown",
   "metadata": {},
   "source": [
    "##### 4 task"
   ]
  },
  {
   "cell_type": "code",
   "execution_count": 62,
   "metadata": {},
   "outputs": [
    {
     "name": "stderr",
     "output_type": "stream",
     "text": [
      "100%|██████████| 10000/10000 [00:56<00:00, 178.20it/s]"
     ]
    },
    {
     "name": "stdout",
     "output_type": "stream",
     "text": [
      "0.4655\n"
     ]
    },
    {
     "name": "stderr",
     "output_type": "stream",
     "text": [
      "\n"
     ]
    }
   ],
   "source": [
    "from tqdm import tqdm \n",
    "\n",
    "def generate(w, a1, b1, a2, b2, a, b, delta_mu, delta_sigma2, size, rng):\n",
    "    # генерируем просмотры\n",
    "    mix = rng.random(size=size) < w\n",
    "    first = rng.geometric(rng.beta(a1, b1, size=size))\n",
    "    second = rng.geometric(rng.beta(a2, b2, size=size))\n",
    "    views = mix * first + (1 - mix) * second\n",
    "\n",
    "    # генерируем лайки, хитро поменяв параметры a и b\n",
    "    mu = a/(a+b)*(1+delta_mu)\n",
    "    variance = (a*b)/((a+b)**2*(a+b+1))*(1+delta_sigma2)\n",
    "    nu = mu*(1-mu)/variance - 1\n",
    "    a_new, b_new = mu*nu, (1-mu)*nu\n",
    "    likes = rng.binomial(views, rng.beta(a_new, b_new, size=size))\n",
    "    return views, likes\n",
    "\n",
    "\n",
    "size = 10000\n",
    "alpha = 0.05\n",
    "N = 10000\n",
    "\n",
    "\n",
    "counter = 0\n",
    "\n",
    "for i in tqdm(range(N)):\n",
    "    views, likes = generate(w = 0.25, a1 = 1.4, b1 = 4.4, a2 = 3.2, b2 = 150, \n",
    "                            a = 1.15, b = 20.3, rng = np.random.default_rng(),  \n",
    "                            delta_mu = 0, delta_sigma2 = 0, size = size)\n",
    "    control_data =  likes/views\n",
    "\n",
    "    views, likes = generate(w = 0.25, a1 = 1.4, b1 = 4.4, a2 = 3.2, b2 = 150, \n",
    "                            a = 1.15, b = 20.3, rng = np.random.default_rng(),  \n",
    "                            delta_mu = 0.05, delta_sigma2 = 0, size = size)\n",
    "    test_data = likes / views\n",
    "\n",
    "    p_value = ss.ttest_ind(control_data, test_data, alternative='two-sided').pvalue\n",
    "    if (p_value < alpha):\n",
    "        counter+=1\n",
    "\n",
    "print(counter/N)"
   ]
  },
  {
   "cell_type": "markdown",
   "metadata": {},
   "source": [
    "##### 5 task"
   ]
  },
  {
   "cell_type": "code",
   "execution_count": 66,
   "metadata": {},
   "outputs": [
    {
     "name": "stdout",
     "output_type": "stream",
     "text": [
      "0.1554\n"
     ]
    }
   ],
   "source": [
    "def efron_pvalue(A, B, rng):\n",
    "    # не меняйте код ниже\n",
    "    A_b = rng.choice(A, size=(10000, len(A)))\n",
    "    B_b = rng.choice(B, size=(10000, len(B)))\n",
    "    # используйте бутстраповские выборки выше для вычисления p-value\n",
    "    delta = np.mean(A_b, axis=1) - np.mean(B_b, axis=1)\n",
    "    if np.mean(delta > 0) > 0.5:\n",
    "        p_value = 2 * np.mean(delta <= 0)\n",
    "    else:\n",
    "        p_value = 2 * np.mean(delta >= 0)\n",
    "    return p_value\n",
    "\n",
    "rng = np.random.default_rng(0)\n",
    "size_A = rng.integers(30, 100)\n",
    "size_B = rng.integers(30, 100)\n",
    "A = rng.normal(size=size_A)\n",
    "B = rng.normal(size=size_B)\n",
    "\n",
    "print(efron_pvalue(A, B, np.random.default_rng(0)))"
   ]
  },
  {
   "cell_type": "markdown",
   "metadata": {},
   "source": [
    "##### 6 task"
   ]
  },
  {
   "cell_type": "code",
   "execution_count": 11,
   "metadata": {},
   "outputs": [
    {
     "name": "stderr",
     "output_type": "stream",
     "text": [
      "100%|██████████| 10000/10000 [00:06<00:00, 1443.01it/s]"
     ]
    },
    {
     "name": "stdout",
     "output_type": "stream",
     "text": [
      "0.0629\n"
     ]
    },
    {
     "name": "stderr",
     "output_type": "stream",
     "text": [
      "\n"
     ]
    }
   ],
   "source": [
    "from tqdm import tqdm\n",
    "\n",
    "def monte_carlo_AB_test():\n",
    "    num_runs = 10000\n",
    "    counter = 0\n",
    "    for _ in tqdm(range(num_runs)):\n",
    "        rng = np.random.default_rng()\n",
    "        A = rng.normal(size=100)\n",
    "        B = rng.normal(size=100)\n",
    "        p_value = ss.ttest_ind(A, B, equal_var=False, alternative='two-sided').pvalue\n",
    "        if p_value < 0.05:\n",
    "            counter += 1\n",
    "        elif p_value <= 0.15:\n",
    "            A_add = rng.normal(size=100)\n",
    "            B_add = rng.normal(size=100)\n",
    "            A = A + A_add \n",
    "            B = B + B_add\n",
    "            p_value_add = ss.ttest_ind(A, B, equal_var=False, alternative='two-sided').pvalue\n",
    "            if p_value_add < 0.05:\n",
    "                counter += 1\n",
    "    return counter/num_runs\n",
    "\n",
    "print(monte_carlo_AB_test())"
   ]
  },
  {
   "cell_type": "markdown",
   "metadata": {},
   "source": [
    "##### 7 task"
   ]
  },
  {
   "cell_type": "code",
   "execution_count": 14,
   "metadata": {},
   "outputs": [
    {
     "name": "stderr",
     "output_type": "stream",
     "text": [
      "100%|██████████| 10000/10000 [00:52<00:00, 190.87it/s]"
     ]
    },
    {
     "name": "stdout",
     "output_type": "stream",
     "text": [
      "0.1947\n"
     ]
    },
    {
     "name": "stderr",
     "output_type": "stream",
     "text": [
      "\n"
     ]
    }
   ],
   "source": [
    "from tqdm import tqdm\n",
    "\n",
    "def monte_carlo_AB_partial_test():\n",
    "    num_runs = 10000\n",
    "    counter = 0\n",
    "    for _ in tqdm(range(num_runs)):\n",
    "        A = rng.normal(size=100)\n",
    "        B = rng.normal(size=100)\n",
    "        for day in range(10):\n",
    "            A_part = A[:10*(day+1)]\n",
    "            B_part = B[:10*(day+1)]\n",
    "            p_value = ss.ttest_ind(A_part, B_part, equal_var=False, alternative='two-sided').pvalue\n",
    "            if p_value < 0.05:\n",
    "                counter += 1\n",
    "                break\n",
    "    return counter/num_runs\n",
    "\n",
    "print(monte_carlo_AB_partial_test())"
   ]
  },
  {
   "cell_type": "markdown",
   "metadata": {},
   "source": [
    "##### 8 task"
   ]
  },
  {
   "cell_type": "code",
   "execution_count": 42,
   "metadata": {},
   "outputs": [
    {
     "name": "stderr",
     "output_type": "stream",
     "text": [
      "  3%|▎         | 30233/1000000 [00:08<04:43, 3416.91it/s]\n"
     ]
    },
    {
     "ename": "KeyboardInterrupt",
     "evalue": "",
     "output_type": "error",
     "traceback": [
      "\u001b[0;31m---------------------------------------------------------------------------\u001b[0m",
      "\u001b[0;31mKeyboardInterrupt\u001b[0m                         Traceback (most recent call last)",
      "Cell \u001b[0;32mIn[42], line 30\u001b[0m\n\u001b[1;32m     26\u001b[0m                 true_effect_greater_count \u001b[38;5;241m+\u001b[39m\u001b[38;5;241m=\u001b[39m \u001b[38;5;241m1\u001b[39m\n\u001b[1;32m     27\u001b[0m     \u001b[38;5;28;01mreturn\u001b[39;00m counter \u001b[38;5;241m/\u001b[39m num_runs, true_effect_greater_count \u001b[38;5;241m/\u001b[39m counter \u001b[38;5;28;01mif\u001b[39;00m counter \u001b[38;5;241m!=\u001b[39m \u001b[38;5;241m0\u001b[39m \u001b[38;5;28;01melse\u001b[39;00m \u001b[38;5;241m0\u001b[39m\n\u001b[0;32m---> 30\u001b[0m \u001b[38;5;28mprint\u001b[39m(\u001b[43mcheck\u001b[49m\u001b[43m(\u001b[49m\u001b[38;5;241;43m0.5\u001b[39;49m\u001b[43m,\u001b[49m\u001b[43m \u001b[49m\u001b[38;5;241;43m0.01\u001b[39;49m\u001b[43m,\u001b[49m\u001b[43m \u001b[49m\u001b[38;5;241;43m0.01\u001b[39;49m\u001b[43m)\u001b[49m)\n",
      "Cell \u001b[0;32mIn[42], line 20\u001b[0m, in \u001b[0;36mcheck\u001b[0;34m(delta_0, alpha, beta)\u001b[0m\n\u001b[1;32m     18\u001b[0m true_effect \u001b[38;5;241m=\u001b[39m  true_effect_arr[_] \u001b[38;5;241m*\u001b[39m delta_0 \u001b[38;5;241m*\u001b[39m \u001b[38;5;241m0.9\u001b[39m\n\u001b[1;32m     19\u001b[0m sample \u001b[38;5;241m=\u001b[39m ss\u001b[38;5;241m.\u001b[39mnorm\u001b[38;5;241m.\u001b[39mrvs(true_effect, delta_0 \u001b[38;5;241m/\u001b[39m \u001b[38;5;241m2.8\u001b[39m, size\u001b[38;5;241m=\u001b[39m\u001b[38;5;241m100\u001b[39m)\n\u001b[0;32m---> 20\u001b[0m confidence_interval \u001b[38;5;241m=\u001b[39m \u001b[43mss\u001b[49m\u001b[38;5;241;43m.\u001b[39;49m\u001b[43mnorm\u001b[49m\u001b[38;5;241;43m.\u001b[39;49m\u001b[43minterval\u001b[49m\u001b[43m(\u001b[49m\u001b[38;5;241;43m1\u001b[39;49m\u001b[43m \u001b[49m\u001b[38;5;241;43m-\u001b[39;49m\u001b[43m \u001b[49m\u001b[43malpha\u001b[49m\u001b[43m,\u001b[49m\u001b[43m \u001b[49m\u001b[43mloc\u001b[49m\u001b[38;5;241;43m=\u001b[39;49m\u001b[43mnp\u001b[49m\u001b[38;5;241;43m.\u001b[39;49m\u001b[43mmean\u001b[49m\u001b[43m(\u001b[49m\u001b[43msample\u001b[49m\u001b[43m)\u001b[49m\u001b[43m,\u001b[49m\u001b[43m \u001b[49m\u001b[43mscale\u001b[49m\u001b[38;5;241;43m=\u001b[39;49m\u001b[43mnp\u001b[49m\u001b[38;5;241;43m.\u001b[39;49m\u001b[43mstd\u001b[49m\u001b[43m(\u001b[49m\u001b[43msample\u001b[49m\u001b[43m,\u001b[49m\u001b[43m \u001b[49m\u001b[43mddof\u001b[49m\u001b[38;5;241;43m=\u001b[39;49m\u001b[38;5;241;43m1\u001b[39;49m\u001b[43m)\u001b[49m\u001b[43m)\u001b[49m\n\u001b[1;32m     21\u001b[0m reject \u001b[38;5;241m=\u001b[39m (confidence_interval[\u001b[38;5;241m0\u001b[39m] \u001b[38;5;241m>\u001b[39m \u001b[38;5;241m0\u001b[39m) \u001b[38;5;129;01mor\u001b[39;00m (confidence_interval[\u001b[38;5;241m1\u001b[39m] \u001b[38;5;241m<\u001b[39m \u001b[38;5;241m0\u001b[39m)\n\u001b[1;32m     22\u001b[0m true_effect_greater \u001b[38;5;241m=\u001b[39m true_effect \u001b[38;5;241m>\u001b[39m \u001b[38;5;241m1\u001b[39m\n",
      "File \u001b[0;32m~/stats/.env/lib/python3.10/site-packages/scipy/stats/_distn_infrastructure.py:1453\u001b[0m, in \u001b[0;36mrv_generic.interval\u001b[0;34m(self, confidence, *args, **kwds)\u001b[0m\n\u001b[1;32m   1451\u001b[0m q2 \u001b[38;5;241m=\u001b[39m (\u001b[38;5;241m1.0\u001b[39m\u001b[38;5;241m+\u001b[39malpha)\u001b[38;5;241m/\u001b[39m\u001b[38;5;241m2\u001b[39m\n\u001b[1;32m   1452\u001b[0m a \u001b[38;5;241m=\u001b[39m \u001b[38;5;28mself\u001b[39m\u001b[38;5;241m.\u001b[39mppf(q1, \u001b[38;5;241m*\u001b[39margs, \u001b[38;5;241m*\u001b[39m\u001b[38;5;241m*\u001b[39mkwds)\n\u001b[0;32m-> 1453\u001b[0m b \u001b[38;5;241m=\u001b[39m \u001b[38;5;28;43mself\u001b[39;49m\u001b[38;5;241;43m.\u001b[39;49m\u001b[43mppf\u001b[49m\u001b[43m(\u001b[49m\u001b[43mq2\u001b[49m\u001b[43m,\u001b[49m\u001b[43m \u001b[49m\u001b[38;5;241;43m*\u001b[39;49m\u001b[43margs\u001b[49m\u001b[43m,\u001b[49m\u001b[43m \u001b[49m\u001b[38;5;241;43m*\u001b[39;49m\u001b[38;5;241;43m*\u001b[39;49m\u001b[43mkwds\u001b[49m\u001b[43m)\u001b[49m\n\u001b[1;32m   1454\u001b[0m \u001b[38;5;28;01mreturn\u001b[39;00m a, b\n",
      "File \u001b[0;32m~/stats/.env/lib/python3.10/site-packages/scipy/stats/_distn_infrastructure.py:2249\u001b[0m, in \u001b[0;36mrv_continuous.ppf\u001b[0;34m(self, q, *args, **kwds)\u001b[0m\n\u001b[1;32m   2246\u001b[0m place(output, cond2, argsreduce(cond2, lower_bound)[\u001b[38;5;241m0\u001b[39m])\n\u001b[1;32m   2247\u001b[0m place(output, cond3, argsreduce(cond3, upper_bound)[\u001b[38;5;241m0\u001b[39m])\n\u001b[0;32m-> 2249\u001b[0m \u001b[38;5;28;01mif\u001b[39;00m \u001b[43mnp\u001b[49m\u001b[38;5;241;43m.\u001b[39;49m\u001b[43many\u001b[49m\u001b[43m(\u001b[49m\u001b[43mcond\u001b[49m\u001b[43m)\u001b[49m:  \u001b[38;5;66;03m# call only if at least 1 entry\u001b[39;00m\n\u001b[1;32m   2250\u001b[0m     goodargs \u001b[38;5;241m=\u001b[39m argsreduce(cond, \u001b[38;5;241m*\u001b[39m((q,)\u001b[38;5;241m+\u001b[39margs\u001b[38;5;241m+\u001b[39m(scale, loc)))\n\u001b[1;32m   2251\u001b[0m     scale, loc, goodargs \u001b[38;5;241m=\u001b[39m goodargs[\u001b[38;5;241m-\u001b[39m\u001b[38;5;241m2\u001b[39m], goodargs[\u001b[38;5;241m-\u001b[39m\u001b[38;5;241m1\u001b[39m], goodargs[:\u001b[38;5;241m-\u001b[39m\u001b[38;5;241m2\u001b[39m]\n",
      "File \u001b[0;32m~/stats/.env/lib/python3.10/site-packages/numpy/core/fromnumeric.py:2412\u001b[0m, in \u001b[0;36many\u001b[0;34m(a, axis, out, keepdims, where)\u001b[0m\n\u001b[1;32m   2322\u001b[0m \u001b[38;5;129m@array_function_dispatch\u001b[39m(_any_dispatcher)\n\u001b[1;32m   2323\u001b[0m \u001b[38;5;28;01mdef\u001b[39;00m \u001b[38;5;21many\u001b[39m(a, axis\u001b[38;5;241m=\u001b[39m\u001b[38;5;28;01mNone\u001b[39;00m, out\u001b[38;5;241m=\u001b[39m\u001b[38;5;28;01mNone\u001b[39;00m, keepdims\u001b[38;5;241m=\u001b[39mnp\u001b[38;5;241m.\u001b[39m_NoValue, \u001b[38;5;241m*\u001b[39m, where\u001b[38;5;241m=\u001b[39mnp\u001b[38;5;241m.\u001b[39m_NoValue):\n\u001b[1;32m   2324\u001b[0m \u001b[38;5;250m    \u001b[39m\u001b[38;5;124;03m\"\"\"\u001b[39;00m\n\u001b[1;32m   2325\u001b[0m \u001b[38;5;124;03m    Test whether any array element along a given axis evaluates to True.\u001b[39;00m\n\u001b[1;32m   2326\u001b[0m \n\u001b[0;32m   (...)\u001b[0m\n\u001b[1;32m   2410\u001b[0m \n\u001b[1;32m   2411\u001b[0m \u001b[38;5;124;03m    \"\"\"\u001b[39;00m\n\u001b[0;32m-> 2412\u001b[0m     \u001b[38;5;28;01mreturn\u001b[39;00m \u001b[43m_wrapreduction\u001b[49m\u001b[43m(\u001b[49m\u001b[43ma\u001b[49m\u001b[43m,\u001b[49m\u001b[43m \u001b[49m\u001b[43mnp\u001b[49m\u001b[38;5;241;43m.\u001b[39;49m\u001b[43mlogical_or\u001b[49m\u001b[43m,\u001b[49m\u001b[43m \u001b[49m\u001b[38;5;124;43m'\u001b[39;49m\u001b[38;5;124;43many\u001b[39;49m\u001b[38;5;124;43m'\u001b[39;49m\u001b[43m,\u001b[49m\u001b[43m \u001b[49m\u001b[43maxis\u001b[49m\u001b[43m,\u001b[49m\u001b[43m \u001b[49m\u001b[38;5;28;43;01mNone\u001b[39;49;00m\u001b[43m,\u001b[49m\u001b[43m \u001b[49m\u001b[43mout\u001b[49m\u001b[43m,\u001b[49m\n\u001b[1;32m   2413\u001b[0m \u001b[43m                          \u001b[49m\u001b[43mkeepdims\u001b[49m\u001b[38;5;241;43m=\u001b[39;49m\u001b[43mkeepdims\u001b[49m\u001b[43m,\u001b[49m\u001b[43m \u001b[49m\u001b[43mwhere\u001b[49m\u001b[38;5;241;43m=\u001b[39;49m\u001b[43mwhere\u001b[49m\u001b[43m)\u001b[49m\n",
      "File \u001b[0;32m~/stats/.env/lib/python3.10/site-packages/numpy/core/fromnumeric.py:72\u001b[0m, in \u001b[0;36m_wrapreduction\u001b[0;34m(obj, ufunc, method, axis, dtype, out, **kwargs)\u001b[0m\n\u001b[1;32m     71\u001b[0m \u001b[38;5;28;01mdef\u001b[39;00m \u001b[38;5;21m_wrapreduction\u001b[39m(obj, ufunc, method, axis, dtype, out, \u001b[38;5;241m*\u001b[39m\u001b[38;5;241m*\u001b[39mkwargs):\n\u001b[0;32m---> 72\u001b[0m     passkwargs \u001b[38;5;241m=\u001b[39m {k: v \u001b[38;5;28;01mfor\u001b[39;00m k, v \u001b[38;5;129;01min\u001b[39;00m \u001b[43mkwargs\u001b[49m\u001b[38;5;241;43m.\u001b[39;49m\u001b[43mitems\u001b[49m\u001b[43m(\u001b[49m\u001b[43m)\u001b[49m\n\u001b[1;32m     73\u001b[0m                   \u001b[38;5;28;01mif\u001b[39;00m v \u001b[38;5;129;01mis\u001b[39;00m \u001b[38;5;129;01mnot\u001b[39;00m np\u001b[38;5;241m.\u001b[39m_NoValue}\n\u001b[1;32m     75\u001b[0m     \u001b[38;5;28;01mif\u001b[39;00m \u001b[38;5;28mtype\u001b[39m(obj) \u001b[38;5;129;01mis\u001b[39;00m \u001b[38;5;129;01mnot\u001b[39;00m mu\u001b[38;5;241m.\u001b[39mndarray:\n\u001b[1;32m     76\u001b[0m         \u001b[38;5;28;01mtry\u001b[39;00m:\n",
      "\u001b[0;31mKeyboardInterrupt\u001b[0m: "
     ]
    }
   ],
   "source": [
    "from tqdm import tqdm\n",
    "\n",
    "def hypothesis_test(delta_0, alpha, beta):\n",
    "    true_effect = np.random.standard_t(3) * delta_0 * 0.9\n",
    "    sample = np.random.normal(true_effect, delta_0 / 2.8, 100)\n",
    "    std_dev = np.std(sample, ddof=1)\n",
    "    confidence_interval = ss.norm.interval(1 - alpha, loc=np.mean(sample), scale=std_dev)\n",
    "    reject_null_hypothesis = (confidence_interval[0] > 0) or (confidence_interval[1] < 0)\n",
    "    true_effect_is_greater_than_1 = true_effect > 1\n",
    "    return reject_null_hypothesis, true_effect_is_greater_than_1\n",
    "\n",
    "def check(delta_0, alpha, beta):\n",
    "    counter = 0\n",
    "    true_effect_greater_count = 0\n",
    "    num_runs = 1000000\n",
    "    true_effect_arr = ss.t.rvs(3, size = num_runs) * delta_0 * 0.9\n",
    "    for _ in tqdm(range(num_runs)):\n",
    "        true_effect =  true_effect_arr[_] * delta_0 * 0.9\n",
    "        sample = ss.norm.rvs(true_effect, delta_0 / 2.8, size=100)\n",
    "        confidence_interval = ss.norm.interval(1 - alpha, loc=np.mean(sample), scale=np.std(sample, ddof=1))\n",
    "        reject = (confidence_interval[0] > 0) or (confidence_interval[1] < 0)\n",
    "        true_effect_greater = true_effect > 1\n",
    "        if reject:\n",
    "            counter += 1\n",
    "            if true_effect_greater:\n",
    "                true_effect_greater_count += 1\n",
    "    return counter / num_runs, true_effect_greater_count / counter if counter != 0 else 0\n",
    "\n",
    "\n",
    "print(check(0.5, 0.01, 0.01))"
   ]
  }
 ],
 "metadata": {
  "kernelspec": {
   "display_name": ".env",
   "language": "python",
   "name": "python3"
  },
  "language_info": {
   "codemirror_mode": {
    "name": "ipython",
    "version": 3
   },
   "file_extension": ".py",
   "mimetype": "text/x-python",
   "name": "python",
   "nbconvert_exporter": "python",
   "pygments_lexer": "ipython3",
   "version": "3.10.12"
  }
 },
 "nbformat": 4,
 "nbformat_minor": 2
}
