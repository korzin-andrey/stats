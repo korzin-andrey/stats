{
 "cells": [
  {
   "cell_type": "code",
   "execution_count": 3,
   "metadata": {},
   "outputs": [],
   "source": [
    "import scipy.stats as ss\n",
    "import numpy as np\n",
    "import matplotlib.pyplot as plt\n",
    "import pandas as pd"
   ]
  },
  {
   "cell_type": "markdown",
   "metadata": {},
   "source": [
    "##### 1 task"
   ]
  },
  {
   "cell_type": "code",
   "execution_count": 4,
   "metadata": {},
   "outputs": [
    {
     "name": "stdout",
     "output_type": "stream",
     "text": [
      "[187  10   7  16  17]\n",
      "[28  1  0  0  0]\n"
     ]
    }
   ],
   "source": [
    "def generate(w, a1, b1, a2, b2, a, b, delta_mu, delta_sigma2, size, rng):\n",
    "    # генерируем просмотры\n",
    "    mix = rng.random(size=size) < w\n",
    "    first = rng.geometric(rng.beta(a1, b1, size=size))\n",
    "    second = rng.geometric(rng.beta(a2, b2, size=size))\n",
    "    views = mix * first + (1 - mix) * second\n",
    "\n",
    "    # генерируем лайки, хитро поменяв параметры a и b\n",
    "    mu = a/(a+b)*(1+delta_mu)\n",
    "    variance = (a*b)/((a+b)**2*(a+b+1))*(1+delta_sigma2)\n",
    "    nu = mu*(1-mu)/variance - 1\n",
    "    a_new, b_new = mu*nu, (1-mu)*nu\n",
    "    likes = rng.binomial(views, rng.beta(a_new, b_new, size=size))\n",
    "    return views, likes\n",
    "\n",
    "\n",
    "w = 0.25\n",
    "a1, b1 = 1.4, 4.4\n",
    "a2, b2 = 3.2, 150\n",
    "a, b = 1.15, 20.3\n",
    "rng = np.random.default_rng(0)\n",
    "delta_mu, delta_sigma2 = 0.1, -0.1\n",
    "size = 5\n",
    "\n",
    "print(*generate(w, a1, b1, a2, b2, a, b, delta_mu, delta_sigma2, size, rng), sep='\\n')"
   ]
  },
  {
   "cell_type": "markdown",
   "metadata": {},
   "source": [
    "##### 2 task"
   ]
  },
  {
   "cell_type": "code",
   "execution_count": 60,
   "metadata": {},
   "outputs": [
    {
     "name": "stderr",
     "output_type": "stream",
     "text": [
      "100%|██████████| 10000/10000 [02:42<00:00, 61.58it/s]"
     ]
    },
    {
     "name": "stdout",
     "output_type": "stream",
     "text": [
      "1.432\n"
     ]
    },
    {
     "name": "stderr",
     "output_type": "stream",
     "text": [
      "\n"
     ]
    }
   ],
   "source": [
    "from tqdm import tqdm \n",
    "\n",
    "def generate(w, a1, b1, a2, b2, a, b, delta_mu, delta_sigma2, size, rng):\n",
    "    # генерируем просмотры\n",
    "    mix = rng.random(size=size) < w\n",
    "    first = rng.geometric(rng.beta(a1, b1, size=size))\n",
    "    second = rng.geometric(rng.beta(a2, b2, size=size))\n",
    "    views = mix * first + (1 - mix) * second\n",
    "\n",
    "    # генерируем лайки, хитро поменяв параметры a и b\n",
    "    mu = a/(a+b)*(1+delta_mu)\n",
    "    variance = (a*b)/((a+b)**2*(a+b+1))*(1+delta_sigma2)\n",
    "    nu = mu*(1-mu)/variance - 1\n",
    "    a_new, b_new = mu*nu, (1-mu)*nu\n",
    "    likes = rng.binomial(views, rng.beta(a_new, b_new, size=size))\n",
    "    return views, likes\n",
    "\n",
    "\n",
    "size = 10000\n",
    "alpha = 0.05\n",
    "N = 10000\n",
    "\n",
    "\n",
    "counter = 0\n",
    "\n",
    "for i in tqdm(range(N)):\n",
    "    views, likes = generate(w = 0.25, a1 = 1.4, b1 = 4.4, a2 = 3.2, b2 = 150, \n",
    "                            a = 1.15, b = 20.3, rng = np.random.default_rng(),  \n",
    "                            delta_mu = 0, delta_sigma2 = 0, size = size)\n",
    "    control_data =  likes/views\n",
    "\n",
    "    views, likes = generate(w = 0.25, a1 = 1.4, b1 = 4.4, a2 = 3.2, b2 = 150, \n",
    "                            a = 1.15, b = 20.3, rng = np.random.default_rng(),  \n",
    "                            delta_mu = 0, delta_sigma2 = 0.05, size = size)\n",
    "    test_data = likes / views\n",
    "\n",
    "    p_value = ss.mannwhitneyu(control_data, test_data, alternative='two-sided').pvalue\n",
    "    if (p_value < alpha):\n",
    "        counter+=1\n",
    "\n",
    "\n",
    "print(counter/N/alpha)"
   ]
  },
  {
   "cell_type": "markdown",
   "metadata": {},
   "source": [
    "##### 3 task"
   ]
  },
  {
   "cell_type": "code",
   "execution_count": 61,
   "metadata": {},
   "outputs": [
    {
     "name": "stderr",
     "output_type": "stream",
     "text": [
      "100%|██████████| 10000/10000 [02:48<00:00, 59.29it/s]"
     ]
    },
    {
     "name": "stdout",
     "output_type": "stream",
     "text": [
      "0.804\n"
     ]
    },
    {
     "name": "stderr",
     "output_type": "stream",
     "text": [
      "\n"
     ]
    }
   ],
   "source": [
    "from tqdm import tqdm \n",
    "\n",
    "def generate(w, a1, b1, a2, b2, a, b, delta_mu, delta_sigma2, size, rng):\n",
    "    # генерируем просмотры\n",
    "    mix = rng.random(size=size) < w\n",
    "    first = rng.geometric(rng.beta(a1, b1, size=size))\n",
    "    second = rng.geometric(rng.beta(a2, b2, size=size))\n",
    "    views = mix * first + (1 - mix) * second\n",
    "\n",
    "    # генерируем лайки, хитро поменяв параметры a и b\n",
    "    mu = a/(a+b)*(1+delta_mu)\n",
    "    variance = (a*b)/((a+b)**2*(a+b+1))*(1+delta_sigma2)\n",
    "    nu = mu*(1-mu)/variance - 1\n",
    "    a_new, b_new = mu*nu, (1-mu)*nu\n",
    "    likes = rng.binomial(views, rng.beta(a_new, b_new, size=size))\n",
    "    return views, likes\n",
    "\n",
    "\n",
    "size = 10000\n",
    "alpha = 0.05\n",
    "N = 10000\n",
    "\n",
    "\n",
    "counter = 0\n",
    "\n",
    "for i in tqdm(range(N)):\n",
    "    views, likes = generate(w = 0.25, a1 = 1.4, b1 = 4.4, a2 = 3.2, b2 = 150, \n",
    "                            a = 1.15, b = 20.3, rng = np.random.default_rng(),  \n",
    "                            delta_mu = 0, delta_sigma2 = 0, size = size)\n",
    "    control_data =  likes/views\n",
    "\n",
    "    views, likes = generate(w = 0.25, a1 = 1.4, b1 = 4.4, a2 = 3.2, b2 = 150, \n",
    "                            a = 1.15, b = 20.3, rng = np.random.default_rng(),  \n",
    "                            delta_mu = 0.05, delta_sigma2 = 0, size = size)\n",
    "    test_data = likes / views\n",
    "\n",
    "    p_value = ss.mannwhitneyu(control_data, test_data, alternative='two-sided').pvalue\n",
    "    if (p_value < alpha):\n",
    "        counter+=1\n",
    "\n",
    "print(counter/N)"
   ]
  },
  {
   "cell_type": "markdown",
   "metadata": {},
   "source": [
    "##### 4 task"
   ]
  },
  {
   "cell_type": "code",
   "execution_count": 62,
   "metadata": {},
   "outputs": [
    {
     "name": "stderr",
     "output_type": "stream",
     "text": [
      "100%|██████████| 10000/10000 [00:56<00:00, 178.20it/s]"
     ]
    },
    {
     "name": "stdout",
     "output_type": "stream",
     "text": [
      "0.4655\n"
     ]
    },
    {
     "name": "stderr",
     "output_type": "stream",
     "text": [
      "\n"
     ]
    }
   ],
   "source": [
    "from tqdm import tqdm \n",
    "\n",
    "def generate(w, a1, b1, a2, b2, a, b, delta_mu, delta_sigma2, size, rng):\n",
    "    # генерируем просмотры\n",
    "    mix = rng.random(size=size) < w\n",
    "    first = rng.geometric(rng.beta(a1, b1, size=size))\n",
    "    second = rng.geometric(rng.beta(a2, b2, size=size))\n",
    "    views = mix * first + (1 - mix) * second\n",
    "\n",
    "    # генерируем лайки, хитро поменяв параметры a и b\n",
    "    mu = a/(a+b)*(1+delta_mu)\n",
    "    variance = (a*b)/((a+b)**2*(a+b+1))*(1+delta_sigma2)\n",
    "    nu = mu*(1-mu)/variance - 1\n",
    "    a_new, b_new = mu*nu, (1-mu)*nu\n",
    "    likes = rng.binomial(views, rng.beta(a_new, b_new, size=size))\n",
    "    return views, likes\n",
    "\n",
    "\n",
    "size = 10000\n",
    "alpha = 0.05\n",
    "N = 10000\n",
    "\n",
    "\n",
    "counter = 0\n",
    "\n",
    "for i in tqdm(range(N)):\n",
    "    views, likes = generate(w = 0.25, a1 = 1.4, b1 = 4.4, a2 = 3.2, b2 = 150, \n",
    "                            a = 1.15, b = 20.3, rng = np.random.default_rng(),  \n",
    "                            delta_mu = 0, delta_sigma2 = 0, size = size)\n",
    "    control_data =  likes/views\n",
    "\n",
    "    views, likes = generate(w = 0.25, a1 = 1.4, b1 = 4.4, a2 = 3.2, b2 = 150, \n",
    "                            a = 1.15, b = 20.3, rng = np.random.default_rng(),  \n",
    "                            delta_mu = 0.05, delta_sigma2 = 0, size = size)\n",
    "    test_data = likes / views\n",
    "\n",
    "    p_value = ss.ttest_ind(control_data, test_data, alternative='two-sided').pvalue\n",
    "    if (p_value < alpha):\n",
    "        counter+=1\n",
    "\n",
    "print(counter/N)"
   ]
  },
  {
   "cell_type": "markdown",
   "metadata": {},
   "source": [
    "##### 5 task"
   ]
  },
  {
   "cell_type": "code",
   "execution_count": 66,
   "metadata": {},
   "outputs": [
    {
     "name": "stdout",
     "output_type": "stream",
     "text": [
      "0.1554\n"
     ]
    }
   ],
   "source": [
    "def efron_pvalue(A, B, rng):\n",
    "    # не меняйте код ниже\n",
    "    A_b = rng.choice(A, size=(10000, len(A)))\n",
    "    B_b = rng.choice(B, size=(10000, len(B)))\n",
    "    # используйте бутстраповские выборки выше для вычисления p-value\n",
    "    delta = np.mean(A_b, axis=1) - np.mean(B_b, axis=1)\n",
    "    if np.mean(delta > 0) > 0.5:\n",
    "        p_value = 2 * np.mean(delta <= 0)\n",
    "    else:\n",
    "        p_value = 2 * np.mean(delta >= 0)\n",
    "    return p_value\n",
    "\n",
    "rng = np.random.default_rng(0)\n",
    "size_A = rng.integers(30, 100)\n",
    "size_B = rng.integers(30, 100)\n",
    "A = rng.normal(size=size_A)\n",
    "B = rng.normal(size=size_B)\n",
    "\n",
    "print(efron_pvalue(A, B, np.random.default_rng(0)))"
   ]
  }
 ],
 "metadata": {
  "kernelspec": {
   "display_name": ".env",
   "language": "python",
   "name": "python3"
  },
  "language_info": {
   "codemirror_mode": {
    "name": "ipython",
    "version": 3
   },
   "file_extension": ".py",
   "mimetype": "text/x-python",
   "name": "python",
   "nbconvert_exporter": "python",
   "pygments_lexer": "ipython3",
   "version": "3.10.12"
  }
 },
 "nbformat": 4,
 "nbformat_minor": 2
}
