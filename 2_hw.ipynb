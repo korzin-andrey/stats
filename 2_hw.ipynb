{
 "cells": [
  {
   "cell_type": "code",
   "execution_count": 2,
   "metadata": {},
   "outputs": [],
   "source": [
    "import scipy.stats as ss\n",
    "import numpy as np\n",
    "import matplotlib.pyplot as plt\n",
    "import pandas as pd"
   ]
  },
  {
   "cell_type": "markdown",
   "metadata": {},
   "source": [
    "##### 1 task"
   ]
  },
  {
   "cell_type": "code",
   "execution_count": 3,
   "metadata": {},
   "outputs": [
    {
     "name": "stdout",
     "output_type": "stream",
     "text": [
      "(23.570590684620427, 28.853651739621995)\n"
     ]
    },
    {
     "data": {
      "image/png": "[encoded data removed]",
      "text/plain": [
       "<Figure size 640x480 with 1 Axes>"
      ]
     },
     "metadata": {},
     "output_type": "display_data"
    }
   ],
   "source": [
    "data = [28, 26, 33, 24, 34, -44, 27, 16, 40, -2, 29,\n",
    "        22, 24, 21, 25, 30, 23, 29, 31, 19, 24, 20,\n",
    "        36, 32, 36, 28, 25, 21, 28, 29, 37, 25, 28,\n",
    "        26, 30, 32, 36, 26, 30, 22, 36, 23, 27, 27,\n",
    "        28, 27, 31, 27, 26, 33, 26, 32, 32, 24, 39,\n",
    "        28, 24, 25, 32, 25, 29, 27, 28, 29, 16, 23]\n",
    "\n",
    "n = len(data)\n",
    "\n",
    "sigma_arr = (n-1)*(np.std(data, ddof=1)**2)/ss.chi2(n-1).rvs(size=100000)\n",
    "\n",
    "N = 1000\n",
    "mu = ss.norm(loc=np.mean(data), scale=sigma_arr/n).rvs()\n",
    "score_low = ss.scoreatpercentile(mu, 2.5)\n",
    "score_high = ss.scoreatpercentile(mu, 97.5)\n",
    "plt.hist(mu, bins=100)\n",
    "plt.vlines(score_low, ymin=0, ymax=1000, color='r')\n",
    "plt.vlines(score_high, ymin=0, ymax=1000, color='r')\n",
    "\n",
    "def confIntMean(a, conf=0.95):\n",
    "  mean, sem, m = np.mean(a), ss.sem(a), ss.t.ppf((1+conf)/2., len(a)-1)\n",
    "  return mean - m*sem, mean + m*sem\n",
    "\n",
    "print(confIntMean(data, 0.95))\n",
    "\n",
    "# print(score_low, score_high)"
   ]
  },
  {
   "cell_type": "markdown",
   "metadata": {},
   "source": [
    "##### 2 task"
   ]
  },
  {
   "cell_type": "code",
   "execution_count": 4,
   "metadata": {},
   "outputs": [
    {
     "name": "stdout",
     "output_type": "stream",
     "text": [
      "-11.999829819513627 9.82349026449729\n"
     ]
    }
   ],
   "source": [
    "data = [28, 26, 33, 24, 34, -44, 27, 16, 40, -2, 29,\n",
    "        22, 24, 21, 25, 30, 23, 29, 31, 19, 24, 20,\n",
    "        36, 32, 36, 28, 25, 21, 28, 29, 37, 25, 28,\n",
    "        26, 30, 32, 36, 26, 30, 22, 36, 23, 27, 27,\n",
    "        28, 27, 31, 27, 26, 33, 26, 32, 32, 24, 39,\n",
    "        28, 24, 25, 32, 25, 29, 27, 28, 29, 16, 23]\n",
    "\n",
    "n = len(data)\n",
    "\n",
    "sigma = (n-1)*(np.std(data, ddof=1)**2)/ss.chi2(n-1).rvs(size=100000)\n",
    "mu = ss.norm(loc=np.mean(data), scale=np.sqrt(sigma/n)).rvs()\n",
    "\n",
    "samples = ss.norm.rvs(size=(n, len(mu)), loc=mu, scale=np.sqrt(sigma))\n",
    "\n",
    "samples = samples.T\n",
    "min_arr = [min(arr) for arr in samples]\n",
    "score_low = ss.scoreatpercentile(min_arr, 2.5)\n",
    "score_high = ss.scoreatpercentile(min_arr, 97.5)\n",
    "print(score_low, score_high)"
   ]
  },
  {
   "cell_type": "markdown",
   "metadata": {},
   "source": [
    "##### 3 task"
   ]
  },
  {
   "cell_type": "code",
   "execution_count": 5,
   "metadata": {},
   "outputs": [
    {
     "name": "stdout",
     "output_type": "stream",
     "text": [
      "10000\n",
      "0.049803803079018445 0.2685347635021761\n"
     ]
    }
   ],
   "source": [
    "# control\n",
    "n_c = 32\n",
    "mean_c = 1.013\n",
    "s_c = 0.24\n",
    "\n",
    "# test\n",
    "n_t = 36\n",
    "mean_t = 1.173\n",
    "s_t = 0.2\n",
    "\n",
    "# sample\n",
    "N = 10000\n",
    "sigma_c = (n_c-1)*(s_c**2)/ss.chi2(n_c-1).rvs(size=N)\n",
    "mu_c = ss.norm(loc=mean_c, scale=np.sqrt(sigma_c/n_c)).rvs()\n",
    "\n",
    "sigma_t = (n_t-1)*(s_t**2)/ss.chi2(n_t-1).rvs(size=N)\n",
    "mu_t = ss.norm(loc=mean_t, scale=np.sqrt(sigma_t/n_t)).rvs()\n",
    "\n",
    "print(len(mu_c))\n",
    "# mu = ss.norm(loc=(mean_t - mean_c), scale=(sigma_t/n_t + sigma_c/n_c)).rvs()\n",
    "score_low = ss.scoreatpercentile(mu_t-mu_c, 2.5)\n",
    "score_high = ss.scoreatpercentile(mu_t-mu_c, 97.5)\n",
    "\n",
    "print(score_low, score_high)\n",
    "# print(confIntMean(mu_t-mu_c, 0.95))"
   ]
  },
  {
   "cell_type": "markdown",
   "metadata": {},
   "source": [
    "##### 4 task"
   ]
  },
  {
   "cell_type": "markdown",
   "metadata": {},
   "source": [
    "##### 5 task"
   ]
  },
  {
   "cell_type": "code",
   "execution_count": 36,
   "metadata": {},
   "outputs": [
    {
     "name": "stderr",
     "output_type": "stream",
     "text": [
      "Auto-assigning NUTS sampler...\n",
      "Initializing NUTS using jitter+adapt_diag...\n",
      "Sequential sampling (1 chains in 1 job)\n",
      "NUTS: [mu, sigma, L, U]\n"
     ]
    },
    {
     "data": {
      "text/html": [
       "\n",
       "<style>\n",
       "    /* Turns off some styling */\n",
       "    progress {\n",
       "        /* gets rid of default border in Firefox and Opera. */\n",
       "        border: none;\n",
       "        /* Needs to be in here for Safari polyfill so background images work as expected. */\n",
       "        background-size: auto;\n",
       "    }\n",
       "    progress:not([value]), progress:not([value])::-webkit-progress-bar {\n",
       "        background: repeating-linear-gradient(45deg, #7e7e7e, #7e7e7e 10px, #5c5c5c 10px, #5c5c5c 20px);\n",
       "    }\n",
       "    .progress-bar-interrupted, .progress-bar-interrupted::-webkit-progress-bar {\n",
       "        background: #F44336;\n",
       "    }\n",
       "</style>\n"
      ],
      "text/plain": [
       "<IPython.core.display.HTML object>"
      ]
     },
     "metadata": {},
     "output_type": "display_data"
    },
    {
     "data": {
      "text/html": [
       "\n",
       "    <div>\n",
       "      <progress value='11000' class='' max='11000' style='width:300px; height:20px; vertical-align: middle;'></progress>\n",
       "      100.00% [11000/11000 00:14&lt;00:00 Sampling chain 0, 0 divergences]\n",
       "    </div>\n",
       "    "
      ],
      "text/plain": [
       "<IPython.core.display.HTML object>"
      ]
     },
     "metadata": {},
     "output_type": "display_data"
    },
    {
     "name": "stderr",
     "output_type": "stream",
     "text": [
      "Sampling 1 chain for 1_000 tune and 10_000 draw iterations (1_000 + 10_000 draws total) took 15 seconds.\n",
      "Only one chain was sampled, this makes it impossible to run some convergence checks\n"
     ]
    },
    {
     "name": "stdout",
     "output_type": "stream",
     "text": [
      "[0.90053649 1.18217456]\n"
     ]
    }
   ],
   "source": [
    "import pymc as pm \n",
    "import arviz as az\n",
    "import scipy.stats as ss\n",
    "import numpy as np\n",
    "import matplotlib.pyplot as plt\n",
    "import pandas as pd\n",
    "from matplotlib_inline.backend_inline import set_matplotlib_formats\n",
    "set_matplotlib_formats('svg')\n",
    "\n",
    "\n",
    "# vk = pd.read_csv('https://stepik.org/media/attachments/lesson/1233589/vk_likes.csv')\n",
    "# vk = vk[(vk['VIEW'] > 0) & (vk['VIEW'] < 800)]\n",
    "\n",
    "# vk.head()\n",
    "\n",
    "data = ss.norm.rvs(size=1000, random_state=1337)\n",
    "data = data[(data > -1) & (data < 2)]\n",
    "\n",
    "model = pm.Model()\n",
    "\n",
    "with model:\n",
    "    mu = pm.Flat('mu')\n",
    "    sigma = pm.HalfFlat('sigma')\n",
    "    potential = pm.Potential(\"potential\", pm.math.log(1/(sigma)))\n",
    "    L = pm.Exponential('L', lam=1)\n",
    "    U = pm.Exponential('U', lam=1)\n",
    "    truncated_normal = pm.Truncated(\"truncated_normal\", pm.Normal.dist(mu, sigma), lower=data.min()-L, upper=data.max()+U, observed=data)\n",
    "    trace = pm.sample(10000, chains=1)\n",
    "\n",
    "sigma_posterior = trace['posterior']['sigma'].values\n",
    "# plt.hist(sigma_posterior, bins=50)\n",
    "# print(len(sigma_posterior))\n",
    "print(np.quantile(sigma_posterior, q = [0.025, 0.975]))"
   ]
  },
  {
   "cell_type": "markdown",
   "metadata": {},
   "source": [
    "##### 6 task"
   ]
  },
  {
   "cell_type": "code",
   "execution_count": 27,
   "metadata": {},
   "outputs": [
    {
     "name": "stdout",
     "output_type": "stream",
     "text": [
      "   weight  batch\n",
      "1   7.512      1\n",
      "2   7.502      1\n",
      "3   7.461      1\n",
      "4   7.562      1\n",
      "5   7.528      1\n"
     ]
    },
    {
     "name": "stderr",
     "output_type": "stream",
     "text": [
      "Auto-assigning NUTS sampler...\n",
      "Initializing NUTS using jitter+adapt_diag...\n",
      "Multiprocess sampling (4 chains in 4 jobs)\n",
      "NUTS: [mu_b, sigma_b, sigma, mu_0, mu_1, mu_2, mu_3, mu_4, mu_5, mu_6, mu_7]\n"
     ]
    },
    {
     "data": {
      "text/html": [
       "\n",
       "<style>\n",
       "    /* Turns off some styling */\n",
       "    progress {\n",
       "        /* gets rid of default border in Firefox and Opera. */\n",
       "        border: none;\n",
       "        /* Needs to be in here for Safari polyfill so background images work as expected. */\n",
       "        background-size: auto;\n",
       "    }\n",
       "    progress:not([value]), progress:not([value])::-webkit-progress-bar {\n",
       "        background: repeating-linear-gradient(45deg, #7e7e7e, #7e7e7e 10px, #5c5c5c 10px, #5c5c5c 20px);\n",
       "    }\n",
       "    .progress-bar-interrupted, .progress-bar-interrupted::-webkit-progress-bar {\n",
       "        background: #F44336;\n",
       "    }\n",
       "</style>\n"
      ],
      "text/plain": [
       "<IPython.core.display.HTML object>"
      ]
     },
     "metadata": {},
     "output_type": "display_data"
    },
    {
     "data": {
      "text/html": [
       "\n",
       "    <div>\n",
       "      <progress value='44000' class='' max='44000' style='width:300px; height:20px; vertical-align: middle;'></progress>\n",
       "      100.00% [44000/44000 00:50&lt;00:00 Sampling 4 chains, 0 divergences]\n",
       "    </div>\n",
       "    "
      ],
      "text/plain": [
       "<IPython.core.display.HTML object>"
      ]
     },
     "metadata": {},
     "output_type": "display_data"
    },
    {
     "name": "stderr",
     "output_type": "stream",
     "text": [
      "Sampling 4 chains for 1_000 tune and 10_000 draw iterations (4_000 + 40_000 draws total) took 50 seconds.\n"
     ]
    }
   ],
   "source": [
    "euro = pd.read_csv('https://stepik.org/media/attachments/lesson/1251114/euroweight.dat.txt', sep='\\t', names=['weight', 'batch'], index_col=0)\n",
    "print(euro.head())\n",
    "\n",
    "\n",
    "weights = [list(euro[euro['batch'] == i].weight) for i in range(1,9)]\n",
    "\n",
    "# weights = euro[euro['batch'] == 8].weight\n",
    "euro_model = pm.Model()\n",
    "\n",
    "with euro_model:\n",
    "    mu_b = pm.Normal('mu_b', 0, 100)\n",
    "    sigma_b = pm.HalfNormal('sigma_b', 5)\n",
    "    sigma = pm.HalfNormal('sigma', 10)\n",
    "    for i in range(8):\n",
    "        mu_batch = pm.Normal(f'mu_{i}', mu=mu_b, sigma=sigma_b)\n",
    "        weights_batch = pm.Normal(f'weights_{i}', mu=mu_batch, sigma=sigma, observed=weights[i])\n",
    "    trace = pm.sample(10000, chains=1)\n",
    "\n",
    "mu_values_arr = [trace['posterior'][f'mu_{i}'].values[0] for i in range(8)]\n",
    "mu_mean_arr = [np.mean(arr) for arr in mu_values_arr]\n",
    "ind_min = np.argmin(mu_mean_arr)\n",
    "ind_max = np.argmax(mu_mean_arr)\n",
    "\n",
    "delta_mu = mu_values_arr[4] - mu_values_arr[2]\n",
    "print(np.quantile(delta_mu, q = [0.025, 0.975]))"
   ]
  }
 ],
 "metadata": {
  "kernelspec": {
   "display_name": ".env",
   "language": "python",
   "name": "python3"
  },
  "language_info": {
   "codemirror_mode": {
    "name": "ipython",
    "version": 3
   },
   "file_extension": ".py",
   "mimetype": "text/x-python",
   "name": "python",
   "nbconvert_exporter": "python",
   "pygments_lexer": "ipython3",
   "version": "3.10.12"
  }
 },
 "nbformat": 4,
 "nbformat_minor": 2
}
