{
 "cells": [
  {
   "cell_type": "code",
   "execution_count": 36,
   "metadata": {},
   "outputs": [],
   "source": [
    "import scipy.stats as ss\n",
    "import numpy as np\n",
    "import matplotlib.pyplot as plt\n",
    "import pandas as pd"
   ]
  },
  {
   "cell_type": "markdown",
   "metadata": {},
   "source": [
    "##### 1 task"
   ]
  },
  {
   "cell_type": "code",
   "execution_count": 37,
   "metadata": {},
   "outputs": [
    {
     "name": "stdout",
     "output_type": "stream",
     "text": [
      "Scale estimation: 5.650083241894707\n"
     ]
    }
   ],
   "source": [
    "def generate(n):\n",
    "    return ss.cauchy(scale=5.65).rvs(size=n)\n",
    "\n",
    "data = generate(1000000)\n",
    "q1, q2, q3 = ss.mstats.mquantiles(data, prob=[0.25, 0.5, 0.75])\n",
    "print(\"Scale estimation:\", (q3-q1)/2)"
   ]
  },
  {
   "cell_type": "markdown",
   "metadata": {},
   "source": [
    "##### 2 task"
   ]
  },
  {
   "cell_type": "code",
   "execution_count": 38,
   "metadata": {},
   "outputs": [],
   "source": [
    "import numpy as np\n",
    "\n",
    "def weighted_corr(sample: np.array, weights: np.array) -> float:\n",
    "    def weighted_mean(x, w):\n",
    "        return np.average(x, weights=w)\n",
    "    \n",
    "    def weighted_cov(x, y, w):\n",
    "        return np.average((x - weighted_mean(x, w)) * (y - weighted_mean(y, w)), weights=w)\n",
    "\n",
    "    x = sample[:, 0]\n",
    "    y = sample[:, 1]\n",
    "    weighted_corr_val = weighted_cov(x, y, weights) / np.sqrt(weighted_cov(x, x, weights) * weighted_cov(y, y, weights))\n",
    "    print(weighted_corr_val)\n",
    "    return weighted_corr_val\n",
    "    # sample.shape = (n, 2)\n",
    "\n"
   ]
  },
  {
   "cell_type": "code",
   "execution_count": 39,
   "metadata": {},
   "outputs": [
    {
     "data": {
      "text/plain": [
       "array([1, 2, 3])"
      ]
     },
     "execution_count": 39,
     "metadata": {},
     "output_type": "execute_result"
    }
   ],
   "source": [
    "sample = np.array([[1,2,3], [4,5,6]]).T\n",
    "sample.shape\n",
    "sample[:, 0]"
   ]
  },
  {
   "cell_type": "markdown",
   "metadata": {},
   "source": [
    "##### 3 task"
   ]
  },
  {
   "cell_type": "code",
   "execution_count": 49,
   "metadata": {},
   "outputs": [
    {
     "name": "stdout",
     "output_type": "stream",
     "text": [
      "Fraction of values out of two SD = 0.04550026389635842\n"
     ]
    }
   ],
   "source": [
    "from scipy.stats import norm\n",
    " \n",
    "# setting the values of\n",
    "# mean and S.D.\n",
    "mean = 0\n",
    "SD = 1\n",
    " \n",
    "# value of cdf between one, two\n",
    "# and three S.D. around the mean\n",
    "two_sd = norm.cdf(2 * SD, mean, SD) - norm.cdf(-2 * SD, mean, SD)\n",
    " \n",
    "# printing the value of fractions\n",
    "# within each band\n",
    "print(\"Fraction of values out of two SD =\", 1 - two_sd)\n",
    "\n",
    "\n"
   ]
  },
  {
   "cell_type": "code",
   "execution_count": 256,
   "metadata": {},
   "outputs": [
    {
     "name": "stdout",
     "output_type": "stream",
     "text": [
      "(0.031858699451374116, 0.004634706298986597)\n",
      "(0.03685411175968156, 0.004634706298986598)\n"
     ]
    }
   ],
   "source": [
    "import numpy as np\n",
    "from scipy.special import gamma, gdtr\n",
    "from scipy.integrate import quad\n",
    "\n",
    "def test(q, n):\n",
    "    max_value = 1000\n",
    "    data = np.linspace(0, max_value, 1000)\n",
    "\n",
    "\n",
    "    return 0.023, 0.023\n",
    "\n",
    "\n",
    "def exact_old(q, n):\n",
    "    max_value = 100\n",
    "    data = np.linspace(0, max_value, 1000)\n",
    "    alpha = n \n",
    "    beta = q/n\n",
    "\n",
    "    def integrand(x, alpha, beta):\n",
    "        return ((beta**alpha)*x**(alpha-1)*np.exp(-(beta)*x)/gamma(alpha))\n",
    "    \n",
    "    mu = alpha/beta\n",
    "    sigma = np.sqrt(alpha/beta**2)\n",
    "\n",
    "\n",
    "    I_L = quad(integrand, mu + 2*sigma, max_value, args=(alpha,beta))\n",
    "    # print(I_L[0])\n",
    "\n",
    "    I_R = quad(integrand, 0, mu - 2*sigma, args=(alpha,beta))\n",
    "    # print(I_R[0])\n",
    "    \n",
    "    # plt.vlines(alpha/beta + np.sqrt(sigma), ymin=0, ymax=max(integrand(data, alpha, beta)))\n",
    "    # plt.plot(data, integrand(data, alpha, beta))\n",
    "\n",
    "\n",
    "    return I_L[0], I_R[0]\n",
    "\n",
    "def exact(q, n):\n",
    "    max_value = 10000\n",
    "    data = np.linspace(0, max_value, 10000)\n",
    "    alpha = n \n",
    "    beta = q/n\n",
    "\n",
    "    \n",
    "    \n",
    "    mu = alpha/beta\n",
    "    sigma = np.sqrt(alpha/beta**2)\n",
    "\n",
    "    I_L = 1 - gdtr(beta, alpha, mu + 2*sigma)\n",
    "    I_R = gdtr(beta, alpha, mu - 2*sigma)\n",
    "    \n",
    "    # plt.vlines(alpha/beta + np.sqrt(sigma), ymin=0, ymax=max(integrand(data, alpha, beta)))\n",
    "    # plt.plot(data, integrand(data, alpha, beta))\n",
    "\n",
    "\n",
    "    return I_L, I_R\n",
    "\n",
    "print(exact_old(2,10))\n",
    "print(exact(2,10))\n",
    "# plt.plot(np.linspace(0, 5), expon.pdf(scale = 1/0.5, x=np.linspace(0, 5)), color='r')\n",
    "# plt.plot(np.linspace(0, 5), expon.pdf(scale = 1/1.5, x=np.linspace(0, 5)), color='g')"
   ]
  },
  {
   "cell_type": "markdown",
   "metadata": {},
   "source": [
    "##### 4 task"
   ]
  },
  {
   "cell_type": "code",
   "execution_count": null,
   "metadata": {},
   "outputs": [],
   "source": []
  }
 ],
 "metadata": {
  "kernelspec": {
   "display_name": ".env",
   "language": "python",
   "name": "python3"
  },
  "language_info": {
   "codemirror_mode": {
    "name": "ipython",
    "version": 3
   },
   "file_extension": ".py",
   "mimetype": "text/x-python",
   "name": "python",
   "nbconvert_exporter": "python",
   "pygments_lexer": "ipython3",
   "version": "3.10.12"
  }
 },
 "nbformat": 4,
 "nbformat_minor": 2
}
