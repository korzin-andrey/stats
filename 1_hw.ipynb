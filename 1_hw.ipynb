{
 "cells": [
  {
   "cell_type": "code",
   "execution_count": 33,
   "metadata": {},
   "outputs": [],
   "source": [
    "import scipy.stats as ss\n",
    "import numpy as np\n",
    "import matplotlib.pyplot as plt\n",
    "import pandas as pd"
   ]
  },
  {
   "cell_type": "markdown",
   "metadata": {},
   "source": [
    "##### 1 task"
   ]
  },
  {
   "cell_type": "code",
   "execution_count": 29,
   "metadata": {},
   "outputs": [
    {
     "name": "stdout",
     "output_type": "stream",
     "text": [
      "Scale estimation: 5.645424377952048\n"
     ]
    }
   ],
   "source": [
    "def generate(n):\n",
    "    return ss.cauchy(scale=5.65).rvs(size=n)\n",
    "\n",
    "data = generate(1000000)\n",
    "q1, q2, q3 = ss.mstats.mquantiles(data, prob=[0.25, 0.5, 0.75])\n",
    "print(\"Scale estimation:\", (q3-q1)/2)"
   ]
  },
  {
   "cell_type": "markdown",
   "metadata": {},
   "source": [
    "##### 2 task"
   ]
  },
  {
   "cell_type": "code",
   "execution_count": 58,
   "metadata": {},
   "outputs": [
    {
     "data": {
      "text/plain": [
       "(1000000, 2)"
      ]
     },
     "execution_count": 58,
     "metadata": {},
     "output_type": "execute_result"
    }
   ],
   "source": [
    "import numpy as np\n",
    "\n",
    "def weighted_corr(sample: np.array, weights: np.array) -> float:\n",
    "    def weighted_mean(x, w):\n",
    "        return np.average(x, weights=w)\n",
    "    \n",
    "    def weighted_cov(x, y, w):\n",
    "        return np.average((x - weighted_mean(x, w)) * (y - weighted_mean(y, w)), weights=w)\n",
    "\n",
    "    x = sample[:, 0]\n",
    "    y = sample[:, 1]\n",
    "    weighted_corr_val = weighted_cov(x, y, weights) / np.sqrt(weighted_cov(x, x, weights) * weighted_cov(y, y, weights))\n",
    "    print(weighted_corr_val)\n",
    "    return weighted_corr_val\n",
    "    # sample.shape = (n, 2)\n",
    "\n",
    "\n",
    "np.random.seed([3,1415])\n",
    "n = 10**6\n",
    "x = np.random.choice(3, size=n)\n",
    "y = np.random.choice(3, size=n)\n",
    "df = pd.DataFrame({\n",
    "    'x': x,\n",
    "    'y': y,\n",
    "    'w': np.random.random(size=n)\n",
    "    })\n",
    "\n",
    "# Compute the correlation.\n",
    "sample = np.array([df['x'], df['y']]).T\n",
    "sample.shape\n",
    "# r = weighted_corr(np.array([df['x'], df['y']]).T, df['w'])\n",
    "\n"
   ]
  },
  {
   "cell_type": "code",
   "execution_count": 32,
   "metadata": {},
   "outputs": [
    {
     "data": {
      "text/plain": [
       "array([1, 2, 3])"
      ]
     },
     "execution_count": 32,
     "metadata": {},
     "output_type": "execute_result"
    }
   ],
   "source": [
    "sample = np.array([[1,2,3], [4,5,6]]).T\n",
    "sample.shape\n",
    "sample[:, 0]"
   ]
  }
 ],
 "metadata": {
  "kernelspec": {
   "display_name": ".env",
   "language": "python",
   "name": "python3"
  },
  "language_info": {
   "codemirror_mode": {
    "name": "ipython",
    "version": 3
   },
   "file_extension": ".py",
   "mimetype": "text/x-python",
   "name": "python",
   "nbconvert_exporter": "python",
   "pygments_lexer": "ipython3",
   "version": "3.10.12"
  }
 },
 "nbformat": 4,
 "nbformat_minor": 2
}
