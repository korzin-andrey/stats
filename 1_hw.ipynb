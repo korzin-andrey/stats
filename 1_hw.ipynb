{
 "cells": [
  {
   "cell_type": "code",
   "execution_count": 1,
   "metadata": {},
   "outputs": [],
   "source": [
    "import scipy.stats as ss\n",
    "import numpy as np\n",
    "import matplotlib.pyplot as plt\n",
    "import pandas as pd"
   ]
  },
  {
   "cell_type": "markdown",
   "metadata": {},
   "source": [
    "##### 1 task"
   ]
  },
  {
   "cell_type": "code",
   "execution_count": 29,
   "metadata": {},
   "outputs": [
    {
     "name": "stdout",
     "output_type": "stream",
     "text": [
      "Scale estimation: 5.645424377952048\n"
     ]
    }
   ],
   "source": [
    "def generate(n):\n",
    "    return ss.cauchy(scale=5.65).rvs(size=n)\n",
    "\n",
    "data = generate(1000000)\n",
    "q1, q2, q3 = ss.mstats.mquantiles(data, prob=[0.25, 0.5, 0.75])\n",
    "print(\"Scale estimation:\", (q3-q1)/2)"
   ]
  },
  {
   "cell_type": "markdown",
   "metadata": {},
   "source": [
    "##### 2 task"
   ]
  },
  {
   "cell_type": "code",
   "execution_count": 58,
   "metadata": {},
   "outputs": [
    {
     "data": {
      "text/plain": [
       "(1000000, 2)"
      ]
     },
     "execution_count": 58,
     "metadata": {},
     "output_type": "execute_result"
    }
   ],
   "source": [
    "import numpy as np\n",
    "\n",
    "def weighted_corr(sample: np.array, weights: np.array) -> float:\n",
    "    def weighted_mean(x, w):\n",
    "        return np.average(x, weights=w)\n",
    "    \n",
    "    def weighted_cov(x, y, w):\n",
    "        return np.average((x - weighted_mean(x, w)) * (y - weighted_mean(y, w)), weights=w)\n",
    "\n",
    "    x = sample[:, 0]\n",
    "    y = sample[:, 1]\n",
    "    weighted_corr_val = weighted_cov(x, y, weights) / np.sqrt(weighted_cov(x, x, weights) * weighted_cov(y, y, weights))\n",
    "    print(weighted_corr_val)\n",
    "    return weighted_corr_val\n",
    "    # sample.shape = (n, 2)\n",
    "\n"
   ]
  },
  {
   "cell_type": "code",
   "execution_count": 32,
   "metadata": {},
   "outputs": [
    {
     "data": {
      "text/plain": [
       "array([1, 2, 3])"
      ]
     },
     "execution_count": 32,
     "metadata": {},
     "output_type": "execute_result"
    }
   ],
   "source": [
    "sample = np.array([[1,2,3], [4,5,6]]).T\n",
    "sample.shape\n",
    "sample[:, 0]"
   ]
  },
  {
   "cell_type": "markdown",
   "metadata": {},
   "source": [
    "##### 3 task"
   ]
  },
  {
   "cell_type": "code",
   "execution_count": 47,
   "metadata": {},
   "outputs": [
    {
     "name": "stdout",
     "output_type": "stream",
     "text": [
      "0.4744887900517019 0.5244397890434386\n",
      "0.24590225134478924\n"
     ]
    },
    {
     "data": {
      "text/plain": [
       "(0.023, 0.023)"
      ]
     },
     "execution_count": 47,
     "metadata": {},
     "output_type": "execute_result"
    },
    {
     "data": {
      "image/png": "[encoded data removed]",
      "text/plain": [
       "<Figure size 640x480 with 1 Axes>"
      ]
     },
     "metadata": {},
     "output_type": "display_data"
    }
   ],
   "source": [
    "def exact(q, n):\n",
    "    loc = 1/q\n",
    "    scale = 1/(n*q**2)\n",
    "    normal_distribution = ss.norm(loc=loc, scale=scale)\n",
    "    x_min = loc - 5*scale\n",
    "    x_max = loc + 5*scale\n",
    "    arr = np.linspace(x_min, x_max, 10000)\n",
    "    norm_pdf = normal_distribution.pdf(arr)\n",
    "    sample = normal_distribution.rvs(1000)\n",
    "    \n",
    "    mean = sample.mean()\n",
    "    std = np.sqrt(1/q**2)\n",
    "    \n",
    "    edge_min = sample.mean() - 2 * sample.std()/np.sqrt(n)\n",
    "    edge_max = sample.mean() + 2 * sample.std()/np.sqrt(n)\n",
    "    print(sample.mean() - 3 * sample.std()/np.sqrt(n), sample.mean() + 3 * sample.std()/np.sqrt(n))\n",
    "\n",
    "    max_array = np.linspace(edge_max, x_max, 1000)\n",
    "    min_array = np.linspace(x_min, edge_min, 1000)\n",
    "    integral = np.trapz(x=min_array, y=normal_distribution.pdf(min_array))\n",
    "    print(integral)\n",
    "    \n",
    "    \n",
    "    plt.plot(min_array, normal_distribution.pdf(min_array))\n",
    "    plt.vlines(edge_min, ymin=0, ymax=max(norm_pdf), color='r')\n",
    "    return 0.023, 0.023\n",
    "\n",
    "\n",
    "exact(2,10)"
   ]
  }
 ],
 "metadata": {
  "kernelspec": {
   "display_name": ".env",
   "language": "python",
   "name": "python3"
  },
  "language_info": {
   "codemirror_mode": {
    "name": "ipython",
    "version": 3
   },
   "file_extension": ".py",
   "mimetype": "text/x-python",
   "name": "python",
   "nbconvert_exporter": "python",
   "pygments_lexer": "ipython3",
   "version": "3.11.6"
  }
 },
 "nbformat": 4,
 "nbformat_minor": 2
}
