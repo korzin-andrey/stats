{
 "cells": [
  {
   "cell_type": "code",
   "execution_count": 1,
   "metadata": {},
   "outputs": [],
   "source": [
    "import scipy.stats as ss\n",
    "import numpy as np\n",
    "import matplotlib.pyplot as plt\n",
    "import pandas as pd"
   ]
  },
  {
   "cell_type": "markdown",
   "metadata": {},
   "source": [
    "##### 1 task"
   ]
  },
  {
   "cell_type": "code",
   "execution_count": 2,
   "metadata": {},
   "outputs": [
    {
     "name": "stdout",
     "output_type": "stream",
     "text": [
      "Scale estimation: 5.649478948222648\n"
     ]
    }
   ],
   "source": [
    "def generate(n):\n",
    "    return ss.cauchy(scale=5.65).rvs(size=n)\n",
    "\n",
    "data = generate(1000000)\n",
    "q1, q2, q3 = ss.mstats.mquantiles(data, prob=[0.25, 0.5, 0.75])\n",
    "print(\"Scale estimation:\", (q3-q1)/2)"
   ]
  },
  {
   "cell_type": "markdown",
   "metadata": {},
   "source": [
    "##### 2 task"
   ]
  },
  {
   "cell_type": "code",
   "execution_count": 3,
   "metadata": {},
   "outputs": [],
   "source": [
    "import numpy as np\n",
    "\n",
    "def weighted_corr(sample: np.array, weights: np.array) -> float:\n",
    "    def weighted_mean(x, w):\n",
    "        return np.average(x, weights=w)\n",
    "    \n",
    "    def weighted_cov(x, y, w):\n",
    "        return np.average((x - weighted_mean(x, w)) * (y - weighted_mean(y, w)), weights=w)\n",
    "\n",
    "    x = sample[:, 0]\n",
    "    y = sample[:, 1]\n",
    "    weighted_corr_val = weighted_cov(x, y, weights) / np.sqrt(weighted_cov(x, x, weights) * weighted_cov(y, y, weights))\n",
    "    print(weighted_corr_val)\n",
    "    return weighted_corr_val\n",
    "    # sample.shape = (n, 2)\n",
    "\n"
   ]
  },
  {
   "cell_type": "code",
   "execution_count": 4,
   "metadata": {},
   "outputs": [
    {
     "data": {
      "text/plain": [
       "array([1, 2, 3])"
      ]
     },
     "execution_count": 4,
     "metadata": {},
     "output_type": "execute_result"
    }
   ],
   "source": [
    "sample = np.array([[1,2,3], [4,5,6]]).T\n",
    "sample.shape\n",
    "sample[:, 0]"
   ]
  },
  {
   "cell_type": "markdown",
   "metadata": {},
   "source": [
    "##### 3 task"
   ]
  },
  {
   "cell_type": "code",
   "execution_count": 5,
   "metadata": {},
   "outputs": [
    {
     "name": "stdout",
     "output_type": "stream",
     "text": [
      "Fraction of values out of two SD = 0.04550026389635842\n"
     ]
    }
   ],
   "source": [
    "from scipy.stats import norm\n",
    " \n",
    "# setting the values of\n",
    "# mean and S.D.\n",
    "mean = 0\n",
    "SD = 1\n",
    " \n",
    "# value of cdf between one, two\n",
    "# and three S.D. around the mean\n",
    "two_sd = norm.cdf(2 * SD, mean, SD) - norm.cdf(-2 * SD, mean, SD)\n",
    " \n",
    "# printing the value of fractions\n",
    "# within each band\n",
    "print(\"Fraction of values out of two SD =\", 1 - two_sd)\n",
    "\n",
    "\n"
   ]
  },
  {
   "cell_type": "code",
   "execution_count": 6,
   "metadata": {},
   "outputs": [
    {
     "name": "stdout",
     "output_type": "stream",
     "text": [
      "(0.031858699451374116, 0.004634706298986597)\n",
      "(0.03685411175968156, 0.004634706298986598)\n"
     ]
    }
   ],
   "source": [
    "import numpy as np\n",
    "from scipy.special import gamma, gdtr\n",
    "from scipy.integrate import quad\n",
    "\n",
    "def test(q, n):\n",
    "    max_value = 1000\n",
    "    data = np.linspace(0, max_value, 1000)\n",
    "\n",
    "\n",
    "    return 0.023, 0.023\n",
    "\n",
    "\n",
    "def exact_old(q, n):\n",
    "    max_value = 100\n",
    "    data = np.linspace(0, max_value, 1000)\n",
    "    alpha = n \n",
    "    beta = q/n\n",
    "\n",
    "    def integrand(x, alpha, beta):\n",
    "        return ((beta**alpha)*x**(alpha-1)*np.exp(-(beta)*x)/gamma(alpha))\n",
    "    \n",
    "    mu = alpha/beta\n",
    "    sigma = np.sqrt(alpha/beta**2)\n",
    "\n",
    "\n",
    "    I_L = quad(integrand, mu + 2*sigma, max_value, args=(alpha,beta))\n",
    "    # print(I_L[0])\n",
    "\n",
    "    I_R = quad(integrand, 0, mu - 2*sigma, args=(alpha,beta))\n",
    "    # print(I_R[0])\n",
    "    \n",
    "    # plt.vlines(alpha/beta + np.sqrt(sigma), ymin=0, ymax=max(integrand(data, alpha, beta)))\n",
    "    # plt.plot(data, integrand(data, alpha, beta))\n",
    "\n",
    "\n",
    "    return I_L[0], I_R[0]\n",
    "\n",
    "def exact(q, n):\n",
    "    max_value = 10000\n",
    "    data = np.linspace(0, max_value, 10000)\n",
    "    alpha = n \n",
    "    beta = q/n\n",
    "\n",
    "    \n",
    "    \n",
    "    mu = alpha/beta\n",
    "    sigma = np.sqrt(alpha/beta**2)\n",
    "\n",
    "    I_L = 1 - gdtr(beta, alpha, mu + 2*sigma)\n",
    "    I_R = gdtr(beta, alpha, mu - 2*sigma)\n",
    "    \n",
    "    # plt.vlines(alpha/beta + np.sqrt(sigma), ymin=0, ymax=max(integrand(data, alpha, beta)))\n",
    "    # plt.plot(data, integrand(data, alpha, beta))\n",
    "\n",
    "\n",
    "    return I_L, I_R\n",
    "\n",
    "print(exact_old(2,10))\n",
    "print(exact(2,10))\n",
    "# plt.plot(np.linspace(0, 5), expon.pdf(scale = 1/0.5, x=np.linspace(0, 5)), color='r')\n",
    "# plt.plot(np.linspace(0, 5), expon.pdf(scale = 1/1.5, x=np.linspace(0, 5)), color='g')"
   ]
  },
  {
   "cell_type": "markdown",
   "metadata": {},
   "source": [
    "##### 4 task"
   ]
  },
  {
   "cell_type": "code",
   "execution_count": 56,
   "metadata": {},
   "outputs": [
    {
     "name": "stdout",
     "output_type": "stream",
     "text": [
      "0.49865999999999994\n"
     ]
    }
   ],
   "source": [
    "def generate(n: int) -> np.array:\n",
    "    p = 0.3\n",
    "    q = 0.4\n",
    "    # 0 - sunny, 1 - rainy\n",
    "    # initial state\n",
    "    data_weather = []\n",
    "    data = []\n",
    "    weather = np.random.randint(0, 2)\n",
    "    data_weather.append(weather)\n",
    "    data.append(0)\n",
    "    for i in range(n):\n",
    "        weather = np.random.randint(0, 2)\n",
    "        data_weather.append(weather)\n",
    "        if (weather == 1):\n",
    "            activity = np.random.choice(np.arange(0, 3), p=[0.1, 0.4, 0.5]) \n",
    "        else:\n",
    "            activity = np.random.choice(np.arange(0, 3), p=[0.6, 0.3, 0.1])\n",
    "        data.append(activity)    \n",
    "    return np.array(data)\n",
    "\n",
    "\n",
    "\n",
    "prob_arr = []\n",
    "N = 1000 # number of days in Borya's story\n",
    "for i in range(100):\n",
    "    data = generate(N)\n",
    "    N_pr = list(data).count(0)\n",
    "    prob = (0.6 - N_pr/N)/0.5\n",
    "    prob_arr.append(prob)\n",
    "\n",
    "print(np.array(prob_arr).mean())  \n",
    "# plt.plot(prob_arr)\n",
    "# plt.hlines(np.array(prob_arr).mean(), xmin=0, xmax=len(prob_arr), color='r')\n"
   ]
  },
  {
   "cell_type": "markdown",
   "metadata": {},
   "source": [
    "##### 5 task"
   ]
  },
  {
   "cell_type": "code",
   "execution_count": 218,
   "metadata": {},
   "outputs": [
    {
     "name": "stderr",
     "output_type": "stream",
     "text": [
      "  0%|          | 0/100000 [00:00<?, ?it/s]"
     ]
    },
    {
     "name": "stderr",
     "output_type": "stream",
     "text": [
      "100%|██████████| 100000/100000 [00:07<00:00, 13636.84it/s]\n"
     ]
    },
    {
     "data": {
      "text/plain": [
       "3.00287"
      ]
     },
     "execution_count": 218,
     "metadata": {},
     "output_type": "execute_result"
    }
   ],
   "source": [
    "from scipy.stats import expon, gamma, beta\n",
    "from tqdm import tqdm\n",
    "\n",
    "def mean(a, b, c, d, number_of_trials):\n",
    "    p = beta.rvs(a, b, size=number_of_trials)\n",
    "    q = gamma.rvs(c, scale=1/d, size=number_of_trials)\n",
    "\n",
    "    m = 12\n",
    "    samples = np.zeros((number_of_trials, m))\n",
    "    mean = 0\n",
    "    for i in tqdm(range(number_of_trials)):\n",
    "        states = 0\n",
    "        for t in range(0, m):\n",
    "            prob = (np.exp(-q[i]*t)*(1-p[i]))/(p[i] + (1-p[i])*np.exp(-q[i]*t))\n",
    "            flip_coin = np.random.choice(np.arange(0, 2), p=[1-prob, prob]) \n",
    "            # print(flip_coin)\n",
    "            if (flip_coin):\n",
    "                states+=1\n",
    "            else:\n",
    "                # print(['1 ']*states)\n",
    "                break\n",
    "        mean+=states\n",
    "    return mean/number_of_trials\n",
    "\n",
    "mean(2,20,2,2,100000)"
   ]
  },
  {
   "cell_type": "code",
   "execution_count": 210,
   "metadata": {},
   "outputs": [
    {
     "data": {
      "text/plain": [
       "[<matplotlib.lines.Line2D at 0x7f2a293408e0>]"
      ]
     },
     "execution_count": 210,
     "metadata": {},
     "output_type": "execute_result"
    },
    {
     "data": {
      "image/png": "[encoded data removed]",
      "text/plain": [
       "<Figure size 640x480 with 1 Axes>"
      ]
     },
     "metadata": {},
     "output_type": "display_data"
    }
   ],
   "source": [
    "p=0.5\n",
    "q=0.5\n",
    "t = np.linspace(1,10,10)\n",
    "prob = (np.exp(-q*t)*(1-p))/(p + (1-p)*np.exp(-q*t))\n",
    "plt.plot(t, prob)"
   ]
  }
 ],
 "metadata": {
  "kernelspec": {
   "display_name": ".env",
   "language": "python",
   "name": "python3"
  },
  "language_info": {
   "codemirror_mode": {
    "name": "ipython",
    "version": 3
   },
   "file_extension": ".py",
   "mimetype": "text/x-python",
   "name": "python",
   "nbconvert_exporter": "python",
   "pygments_lexer": "ipython3",
   "version": "3.10.12"
  }
 },
 "nbformat": 4,
 "nbformat_minor": 2
}
